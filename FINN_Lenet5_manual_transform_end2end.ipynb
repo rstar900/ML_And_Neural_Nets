{
 "cells": [
  {
   "cell_type": "markdown",
   "id": "f767ab53",
   "metadata": {},
   "source": [
    "## 1. Tidy-up Transformations\n",
    "Import the .onnx model and apply standard transformations to remove unnecessary information and make the model cleaner and simpler."
   ]
  },
  {
   "cell_type": "code",
   "execution_count": 2,
   "id": "a1422e7b",
   "metadata": {},
   "outputs": [
    {
     "name": "stderr",
     "output_type": "stream",
     "text": [
      "/home/rstar900/finn/deps/qonnx/src/qonnx/core/modelwrapper.py:93: UserWarning: Some old-style domain attributes were automatically converted to new-style,\n",
      "                i.e. domain=finn to domain=qonnx.custom_op.<general|fpgadataflow|...>\n",
      "  warnings.warn(\n"
     ]
    }
   ],
   "source": [
    "import onnx\n",
    "import brevitas.onnx as bo\n",
    "from qonnx.core.modelwrapper import ModelWrapper\n",
    "from qonnx.transformation.infer_shapes import InferShapes\n",
    "from qonnx.transformation.fold_constants import FoldConstants\n",
    "from qonnx.transformation.general import GiveReadableTensorNames, GiveUniqueNodeNames, RemoveStaticGraphInputs\n",
    "\n",
    "from finn.util.basic import make_build_dir\n",
    "from finn.util.visualization import showInNetron\n",
    "\n",
    "build_dir = './output_test'\n",
    "\n",
    "# Run tidy-up transformations on model\n",
    "\n",
    "model = ModelWrapper(build_dir + \"/finn_lenet.onnx\")\n",
    "model = model.transform(InferShapes())\n",
    "model = model.transform(FoldConstants())\n",
    "model = model.transform(GiveUniqueNodeNames())\n",
    "model = model.transform(GiveReadableTensorNames())\n",
    "model = model.transform(RemoveStaticGraphInputs())\n",
    "model.save(build_dir + \"/finn_lenet_tidy.onnx\")"
   ]
  },
  {
   "cell_type": "code",
   "execution_count": 6,
   "id": "67954b20",
   "metadata": {},
   "outputs": [
    {
     "name": "stdout",
     "output_type": "stream",
     "text": [
      "Serving './output_test/finn_lenet.onnx' at http://0.0.0.0:8081\n"
     ]
    },
    {
     "data": {
      "text/html": [
       "\n",
       "        <iframe\n",
       "            width=\"100%\"\n",
       "            height=\"400\"\n",
       "            src=\"http://localhost:8081/\"\n",
       "            frameborder=\"0\"\n",
       "            allowfullscreen\n",
       "            \n",
       "        ></iframe>\n",
       "        "
      ],
      "text/plain": [
       "<IPython.lib.display.IFrame at 0x7f99b852a580>"
      ]
     },
     "execution_count": 6,
     "metadata": {},
     "output_type": "execute_result"
    }
   ],
   "source": [
    "# Visualize the original onnx export\n",
    "showInNetron(build_dir+\"/finn_lenet.onnx\")"
   ]
  },
  {
   "cell_type": "code",
   "execution_count": 3,
   "id": "7d44f4a1",
   "metadata": {
    "scrolled": false
   },
   "outputs": [
    {
     "name": "stdout",
     "output_type": "stream",
     "text": [
      "Serving './output_test/finn_lenet_tidy.onnx' at http://0.0.0.0:8081\n"
     ]
    },
    {
     "data": {
      "text/html": [
       "\n",
       "        <iframe\n",
       "            width=\"100%\"\n",
       "            height=\"400\"\n",
       "            src=\"http://localhost:8081/\"\n",
       "            frameborder=\"0\"\n",
       "            allowfullscreen\n",
       "            \n",
       "        ></iframe>\n",
       "        "
      ],
      "text/plain": [
       "<IPython.lib.display.IFrame at 0x7f8b004524c0>"
      ]
     },
     "execution_count": 3,
     "metadata": {},
     "output_type": "execute_result"
    }
   ],
   "source": [
    "# Visualize the tidy-up version (Multithreshold layer is responsible for quantizing inputs to 8-bit INT)\n",
    "\n",
    "showInNetron(build_dir+\"/finn_lenet_tidy.onnx\")"
   ]
  },
  {
   "cell_type": "markdown",
   "id": "cbc62301",
   "metadata": {},
   "source": [
    "## 2. Pre and Post Processing \n",
    "Adding FINN's primitives for toTensor (divide input by 255) and Top-K (to select the class number with the highest probability)"
   ]
  },
  {
   "cell_type": "code",
   "execution_count": 8,
   "id": "6e16f032",
   "metadata": {},
   "outputs": [
    {
     "name": "stderr",
     "output_type": "stream",
     "text": [
      "/home/rstar900/finn/deps/qonnx/src/qonnx/transformation/infer_data_layouts.py:119: UserWarning: Assuming 4D input is NCHW\n",
      "  warnings.warn(\"Assuming 4D input is NCHW\")\n"
     ]
    }
   ],
   "source": [
    "# Adding Pre-processing \n",
    "# (We have to do quantization ourselves, The initial multithreshold does not convert to hardware on its own)\n",
    "\n",
    "from finn.util.pytorch import ToTensor\n",
    "from qonnx.transformation.merge_onnx_models import MergeONNXModels\n",
    "from qonnx.core.datatype import DataType\n",
    "\n",
    "model = ModelWrapper(build_dir+\"/finn_lenet_tidy.onnx\")\n",
    "global_inp_name = model.graph.input[0].name\n",
    "ishape = model.get_tensor_shape(global_inp_name)\n",
    "# preprocessing: torchvision's ToTensor divides uint8 inputs by 255\n",
    "totensor_pyt = ToTensor()\n",
    "chkpt_preproc_name = build_dir+\"/finn_lenet_preproc.onnx\"\n",
    "bo.export_finn_onnx(totensor_pyt, ishape, chkpt_preproc_name)\n",
    "\n",
    "# join preprocessing and core model\n",
    "pre_model = ModelWrapper(chkpt_preproc_name)\n",
    "model = model.transform(MergeONNXModels(pre_model))\n",
    "# add input quantization annotation: UINT8 for all BNN-PYNQ models\n",
    "global_inp_name = model.graph.input[0].name\n",
    "model.set_tensor_datatype(global_inp_name, DataType[\"UINT8\"])"
   ]
  },
  {
   "cell_type": "code",
   "execution_count": 9,
   "id": "8575cc93",
   "metadata": {},
   "outputs": [],
   "source": [
    "# Adding post-processing (Top K)\n",
    "# This will basically output the class with the highest probability as 8-bit INT instead of a float32 array \n",
    "\n",
    "from qonnx.transformation.insert_topk import InsertTopK\n",
    "from qonnx.transformation.infer_datatypes import InferDataTypes\n",
    "\n",
    "# postprocessing: insert Top-1 node at the end\n",
    "model = model.transform(InsertTopK(k=1))\n",
    "chkpt_name = build_dir+\"/finn_lenet_pre_post.onnx\"\n",
    "# tidy-up again\n",
    "model = model.transform(InferShapes())\n",
    "model = model.transform(FoldConstants())\n",
    "model = model.transform(GiveUniqueNodeNames())\n",
    "model = model.transform(GiveReadableTensorNames())\n",
    "model = model.transform(InferDataTypes())\n",
    "model = model.transform(RemoveStaticGraphInputs())\n",
    "model.save(chkpt_name)"
   ]
  },
  {
   "cell_type": "code",
   "execution_count": 4,
   "id": "5982bfa9",
   "metadata": {},
   "outputs": [
    {
     "name": "stdout",
     "output_type": "stream",
     "text": [
      "Stopping http://0.0.0.0:8081\n",
      "Serving './output_test/finn_lenet_pre_post.onnx' at http://0.0.0.0:8081\n"
     ]
    },
    {
     "data": {
      "text/html": [
       "\n",
       "        <iframe\n",
       "            width=\"100%\"\n",
       "            height=\"400\"\n",
       "            src=\"http://localhost:8081/\"\n",
       "            frameborder=\"0\"\n",
       "            allowfullscreen\n",
       "            \n",
       "        ></iframe>\n",
       "        "
      ],
      "text/plain": [
       "<IPython.lib.display.IFrame at 0x7f8b004d2820>"
      ]
     },
     "execution_count": 4,
     "metadata": {},
     "output_type": "execute_result"
    }
   ],
   "source": [
    "# Visualize the model with pre and post processing\n",
    "showInNetron(build_dir+\"/finn_lenet_pre_post.onnx\")"
   ]
  },
  {
   "cell_type": "markdown",
   "id": "40190eba",
   "metadata": {},
   "source": [
    "## 3. Streamlining Transformations"
   ]
  },
  {
   "cell_type": "code",
   "execution_count": 11,
   "id": "8b0fe816",
   "metadata": {},
   "outputs": [],
   "source": [
    "# Applying streamlining transformations\n",
    "\n",
    "from finn.transformation.streamline import Streamline\n",
    "from qonnx.transformation.lower_convs_to_matmul import LowerConvsToMatMul\n",
    "#from qonnx.transformation.bipolar_to_xnor import ConvertBipolarMatMulToXnorPopcount\n",
    "import finn.transformation.streamline.absorb as absorb\n",
    "from finn.transformation.streamline.reorder import MakeMaxPoolNHWC, MoveScalarLinearPastInvariants\n",
    "from qonnx.transformation.infer_data_layouts import InferDataLayouts\n",
    "from qonnx.transformation.general import RemoveUnusedTensors\n",
    "\n",
    "model = ModelWrapper(build_dir + \"/finn_lenet_pre_post.onnx\")\n",
    "model = model.transform(MoveScalarLinearPastInvariants())\n",
    "model = model.transform(Streamline())\n",
    "model = model.transform(LowerConvsToMatMul())\n",
    "model = model.transform(MakeMaxPoolNHWC())\n",
    "model = model.transform(absorb.AbsorbTransposeIntoMultiThreshold())\n",
    "# model = model.transform(ConvertBipolarMatMulToXnorPopcount()) # probably not needed due to this not being a BNN\n",
    "model = model.transform(Streamline())\n",
    "# absorb final add-mul nodes into TopK\n",
    "model = model.transform(absorb.AbsorbScalarMulAddIntoTopK())\n",
    "model = model.transform(InferDataLayouts())\n",
    "model = model.transform(RemoveUnusedTensors())\n",
    "model.save(build_dir + \"/finn_lenet_streamlined.onnx\")"
   ]
  },
  {
   "cell_type": "code",
   "execution_count": 5,
   "id": "8c51db04",
   "metadata": {},
   "outputs": [
    {
     "name": "stdout",
     "output_type": "stream",
     "text": [
      "Stopping http://0.0.0.0:8081\n",
      "Serving './output_test/finn_lenet_streamlined.onnx' at http://0.0.0.0:8081\n"
     ]
    },
    {
     "data": {
      "text/html": [
       "\n",
       "        <iframe\n",
       "            width=\"100%\"\n",
       "            height=\"400\"\n",
       "            src=\"http://localhost:8081/\"\n",
       "            frameborder=\"0\"\n",
       "            allowfullscreen\n",
       "            \n",
       "        ></iframe>\n",
       "        "
      ],
      "text/plain": [
       "<IPython.lib.display.IFrame at 0x7f8b050be430>"
      ]
     },
     "execution_count": 5,
     "metadata": {},
     "output_type": "execute_result"
    }
   ],
   "source": [
    "# Visualize streamlined model\n",
    "# Conv layers turned into Im2Col, MatMul pairs and some others have changed to MultiThreshold\n",
    "\n",
    "showInNetron(build_dir+\"/finn_lenet_streamlined.onnx\")"
   ]
  },
  {
   "cell_type": "markdown",
   "id": "ad81eeb6",
   "metadata": {},
   "source": [
    "## 4. Partitioning and conversion to HLS Layers "
   ]
  },
  {
   "cell_type": "code",
   "execution_count": 14,
   "id": "bd303108",
   "metadata": {},
   "outputs": [],
   "source": [
    "# Partitioning and conversion to HLS Layers \n",
    "\n",
    "import finn.transformation.fpgadataflow.convert_to_hls_layers as to_hls\n",
    "from finn.transformation.fpgadataflow.create_dataflow_partition import (\n",
    "    CreateDataflowPartition,\n",
    ")\n",
    "from finn.transformation.move_reshape import RemoveCNVtoFCFlatten\n",
    "from qonnx.custom_op.registry import getCustomOp\n",
    "from qonnx.transformation.infer_data_layouts import InferDataLayouts\n",
    "\n",
    "# choose the memory mode for the MVTU units, decoupled or const\n",
    "mem_mode = \"decoupled\"\n",
    "\n",
    "model = ModelWrapper(build_dir + \"/finn_lenet_streamlined.onnx\")\n",
    "model = model.transform(to_hls.InferBinaryMatrixVectorActivation(mem_mode))\n",
    "model = model.transform(to_hls.InferQuantizedMatrixVectorActivation(mem_mode))\n",
    "# TopK to LabelSelect\n",
    "model = model.transform(to_hls.InferLabelSelectLayer())\n",
    "# input quantization (if any) to standalone thresholding\n",
    "model = model.transform(to_hls.InferThresholdingLayer())\n",
    "model = model.transform(to_hls.InferConvInpGen())\n",
    "model = model.transform(to_hls.InferStreamingMaxPool())\n",
    "# get rid of Reshape(-1, 1) operation between hlslib nodes\n",
    "model = model.transform(RemoveCNVtoFCFlatten())\n",
    "# get rid of Tranpose -> Tranpose identity seq\n",
    "model = model.transform(absorb.AbsorbConsecutiveTransposes())\n",
    "# infer tensor data layouts\n",
    "model = model.transform(InferDataLayouts())\n",
    "\n",
    "## DEBUGGING TRANSFORMATIONS (These solved the issue by converting layers which were not converted to HLS ones)\n",
    "## https://github.com/Xilinx/finn/discussions/431\n",
    "model = model.transform(MakeMaxPoolNHWC())\n",
    "model = model.transform(absorb.AbsorbConsecutiveTransposes())\n",
    "model = model.transform(to_hls.InferStreamingMaxPool())\n",
    "model = model.transform(RemoveCNVtoFCFlatten())\n",
    "model.save(build_dir + \"/finn_lenet_before_dataflow.onnx\");\n",
    "## DEBUGGING SAVE (Solved the issue by above block)\n",
    "\n",
    "parent_model = model.transform(CreateDataflowPartition()) # solved error here\n",
    "parent_model.save(build_dir + \"/finn_lenet_dataflow_parent.onnx\")\n",
    "sdp_node = parent_model.get_nodes_by_op_type(\"StreamingDataflowPartition\")[0]\n",
    "sdp_node = getCustomOp(sdp_node)\n",
    "dataflow_model_filename = sdp_node.get_nodeattr(\"model\")\n",
    "# save the dataflow partition with a different name for easier access\n",
    "dataflow_model = ModelWrapper(dataflow_model_filename)\n",
    "dataflow_model.save(build_dir + \"/finn_lenet_dataflow_model.onnx\")"
   ]
  },
  {
   "cell_type": "code",
   "execution_count": 9,
   "id": "20f2422c",
   "metadata": {},
   "outputs": [],
   "source": [
    "# Check the model just before error (Solved)\n",
    "# showInNetron(build_dir+\"/finn_lenet_before_dataflow.onnx\")"
   ]
  },
  {
   "cell_type": "markdown",
   "id": "4a41cce3",
   "metadata": {},
   "source": [
    "Notice the additional RemoveCNVtoFCFlatten transformation that was not used for TFC-w1a1. In the last Netron visualization you may have noticed a Reshape operation towards the end of the network where the convolutional part of the network ends and the fully-connected layers started. That Reshape is essentialy a tensor flattening operation, which we can remove for the purposes of hardware implementation. We can examine the contents of the dataflow partition with Netron, and observe the ConvolutionInputGenerator, MatrixVectorActivation and StreamingMaxPool_Batch nodes that implement the sliding window, matrix multiply and maxpool operations in hlslib. Note that the MatrixVectorActivation instances following the ConvolutionInputGenerator nodes are really implementing the convolutions, despite the name. The final three MatrixVectorActivation instances implement actual FC layers."
   ]
  },
  {
   "cell_type": "code",
   "execution_count": 15,
   "id": "ce33ad3f",
   "metadata": {},
   "outputs": [
    {
     "name": "stdout",
     "output_type": "stream",
     "text": [
      "Stopping http://0.0.0.0:8081\n",
      "Serving './output_test/finn_lenet_dataflow_parent.onnx' at http://0.0.0.0:8081\n"
     ]
    },
    {
     "data": {
      "text/html": [
       "\n",
       "        <iframe\n",
       "            width=\"100%\"\n",
       "            height=\"400\"\n",
       "            src=\"http://localhost:8081/\"\n",
       "            frameborder=\"0\"\n",
       "            allowfullscreen\n",
       "            \n",
       "        ></iframe>\n",
       "        "
      ],
      "text/plain": [
       "<IPython.lib.display.IFrame at 0x7f99b8709eb0>"
      ]
     },
     "execution_count": 15,
     "metadata": {},
     "output_type": "execute_result"
    }
   ],
   "source": [
    "showInNetron(build_dir + \"/finn_lenet_dataflow_parent.onnx\")"
   ]
  },
  {
   "cell_type": "markdown",
   "id": "5367db57",
   "metadata": {},
   "source": [
    "Note that pretty much everything has gone into the StreamingDataflowPartition node; the only operation remaining is to apply a Transpose to obtain NHWC input from a NCHW input (the ONNX default)."
   ]
  },
  {
   "cell_type": "code",
   "execution_count": 16,
   "id": "d541bfe2",
   "metadata": {},
   "outputs": [
    {
     "name": "stdout",
     "output_type": "stream",
     "text": [
      "Stopping http://0.0.0.0:8081\n",
      "Serving './output_test/finn_lenet_dataflow_model.onnx' at http://0.0.0.0:8081\n"
     ]
    },
    {
     "data": {
      "text/html": [
       "\n",
       "        <iframe\n",
       "            width=\"100%\"\n",
       "            height=\"400\"\n",
       "            src=\"http://localhost:8081/\"\n",
       "            frameborder=\"0\"\n",
       "            allowfullscreen\n",
       "            \n",
       "        ></iframe>\n",
       "        "
      ],
      "text/plain": [
       "<IPython.lib.display.IFrame at 0x7f99b88a7d00>"
      ]
     },
     "execution_count": 16,
     "metadata": {},
     "output_type": "execute_result"
    }
   ],
   "source": [
    "# This is the StreamingDataflowPartition visualized\n",
    "showInNetron(build_dir + \"/finn_lenet_dataflow_model.onnx\")"
   ]
  },
  {
   "cell_type": "code",
   "execution_count": 17,
   "id": "11cc4907",
   "metadata": {},
   "outputs": [],
   "source": [
    "# Leaving folding for now (using defaults by FINN of PE = 1 and SIMD = 1 which is maximum folding)\n",
    "model = ModelWrapper(build_dir + \"/finn_lenet_dataflow_model.onnx\")\n",
    "# Folding can happen below\n",
    "# Folding can happen above\n",
    "model = model.transform(GiveUniqueNodeNames())\n",
    "model.save(build_dir + \"/finn_lenet_folded.onnx\")"
   ]
  },
  {
   "cell_type": "code",
   "execution_count": 13,
   "id": "5f9807a8",
   "metadata": {},
   "outputs": [
    {
     "name": "stdout",
     "output_type": "stream",
     "text": [
      "Stopping http://0.0.0.0:8081\n",
      "Serving './output_test/finn_lenet_folded.onnx' at http://0.0.0.0:8081\n"
     ]
    },
    {
     "data": {
      "text/html": [
       "\n",
       "        <iframe\n",
       "            width=\"100%\"\n",
       "            height=\"400\"\n",
       "            src=\"http://localhost:8081/\"\n",
       "            frameborder=\"0\"\n",
       "            allowfullscreen\n",
       "            \n",
       "        ></iframe>\n",
       "        "
      ],
      "text/plain": [
       "<IPython.lib.display.IFrame at 0x7f87a4d56f40>"
      ]
     },
     "execution_count": 13,
     "metadata": {},
     "output_type": "execute_result"
    }
   ],
   "source": [
    "# Visualize the folded version\n",
    "showInNetron(build_dir + \"/finn_lenet_folded.onnx\")"
   ]
  },
  {
   "cell_type": "markdown",
   "id": "47134cfa",
   "metadata": {},
   "source": [
    "## 5. Hardware Generation"
   ]
  },
  {
   "cell_type": "code",
   "execution_count": 14,
   "id": "5d1c6f3f",
   "metadata": {},
   "outputs": [
    {
     "name": "stdout",
     "output_type": "stream",
     "text": [
      "numpy==1.24.1\r\n"
     ]
    }
   ],
   "source": [
    "# Hardware Generation\n",
    "\n",
    "# Check numpy version (should be 1.22.0)\n",
    "! pip freeze | grep numpy"
   ]
  },
  {
   "cell_type": "code",
   "execution_count": 15,
   "id": "030d8a39",
   "metadata": {},
   "outputs": [
    {
     "name": "stdout",
     "output_type": "stream",
     "text": [
      "Found existing installation: numpy 1.24.1\n",
      "Uninstalling numpy-1.24.1:\n",
      "\u001b[31mERROR: Exception:\n",
      "Traceback (most recent call last):\n",
      "  File \"/opt/conda/lib/python3.8/shutil.py\", line 788, in move\n",
      "    os.rename(src, real_dst)\n",
      "PermissionError: [Errno 13] Permission denied: '/opt/conda/bin/f2py' -> '/tmp/pip-uninstall-orijhy_7/f2py'\n",
      "\n",
      "During handling of the above exception, another exception occurred:\n",
      "\n",
      "Traceback (most recent call last):\n",
      "  File \"/opt/conda/lib/python3.8/site-packages/pip/_internal/cli/base_command.py\", line 228, in _main\n",
      "    status = self.run(options, args)\n",
      "  File \"/opt/conda/lib/python3.8/site-packages/pip/_internal/commands/uninstall.py\", line 89, in run\n",
      "    uninstall_pathset = req.uninstall(\n",
      "  File \"/opt/conda/lib/python3.8/site-packages/pip/_internal/req/req_install.py\", line 686, in uninstall\n",
      "    uninstalled_pathset.remove(auto_confirm, verbose)\n",
      "  File \"/opt/conda/lib/python3.8/site-packages/pip/_internal/req/req_uninstall.py\", line 394, in remove\n",
      "    moved.stash(path)\n",
      "  File \"/opt/conda/lib/python3.8/site-packages/pip/_internal/req/req_uninstall.py\", line 283, in stash\n",
      "    renames(path, new_path)\n",
      "  File \"/opt/conda/lib/python3.8/site-packages/pip/_internal/utils/misc.py\", line 352, in renames\n",
      "    shutil.move(old, new)\n",
      "  File \"/opt/conda/lib/python3.8/shutil.py\", line 803, in move\n",
      "    os.unlink(src)\n",
      "PermissionError: [Errno 13] Permission denied: '/opt/conda/bin/f2py'\u001b[0m\n",
      "Defaulting to user installation because normal site-packages is not writeable\n",
      "Collecting numpy==1.22.0\n",
      "  Downloading numpy-1.22.0-cp38-cp38-manylinux_2_17_x86_64.manylinux2014_x86_64.whl (16.8 MB)\n",
      "\u001b[K     |████████████████████████████████| 16.8 MB 1.2 MB/s eta 0:00:01\n",
      "\u001b[?25hInstalling collected packages: numpy\n",
      "\u001b[31mERROR: After October 2020 you may experience errors when installing or updating packages. This is because pip will change the way that it resolves dependency conflicts.\n",
      "\n",
      "We recommend you use --use-feature=2020-resolver to test your packages with the new resolver before it becomes the default.\n",
      "\n",
      "qonnx 0.0.post1.dev185+g7d50273 requires numpy==1.24.1, but you'll have numpy 1.22.0 which is incompatible.\u001b[0m\n",
      "Successfully installed numpy-1.22.0\n"
     ]
    }
   ],
   "source": [
    "# if it is not, then run this cell\n",
    "! pip uninstall numpy -y\n",
    "! pip install numpy==1.22.0"
   ]
  },
  {
   "cell_type": "code",
   "execution_count": 16,
   "id": "e6ad56c9",
   "metadata": {},
   "outputs": [],
   "source": [
    "# Modify the basic.py file to add part number for Ultra96-V2 board"
   ]
  },
  {
   "attachments": {
    "Modification_for_Pynq.png": {
     "image/png": "[encoded data removed]"
    }
   },
   "cell_type": "markdown",
   "id": "15f8678e",
   "metadata": {},
   "source": [
    "![Modification_for_Pynq.png](attachment:Modification_for_Pynq.png)"
   ]
  },
  {
   "cell_type": "code",
   "execution_count": 17,
   "id": "05c9f6f3",
   "metadata": {},
   "outputs": [],
   "source": [
    "# Modified templates.py to add support for Ultra96-V2 board"
   ]
  },
  {
   "attachments": {
    "Modification_for_Pynq_2.png": {
     "image/png": "[encoded data removed]"
    }
   },
   "cell_type": "markdown",
   "id": "eef36cfd",
   "metadata": {},
   "source": [
    "![Modification_for_Pynq_2.png](attachment:Modification_for_Pynq_2.png)"
   ]
  },
  {
   "cell_type": "code",
   "execution_count": 18,
   "id": "44e9ec88",
   "metadata": {},
   "outputs": [
    {
     "name": "stdout",
     "output_type": "stream",
     "text": [
      "Previous run results deleted!\n"
     ]
    }
   ],
   "source": [
    "import finn.builder.build_dataflow as build\n",
    "import finn.builder.build_dataflow_config as build_cfg\n",
    "import os\n",
    "import shutil\n",
    "\n",
    "model_file = build_dir + \"/finn_lenet_folded.onnx\"\n",
    "\n",
    "final_output_dir = build_dir + \"_deploy\"\n",
    "\n",
    "#Delete previous run results if exist\n",
    "if os.path.exists(final_output_dir):\n",
    "    shutil.rmtree(final_output_dir)\n",
    "    print(\"Previous run results deleted!\")\n",
    "\n",
    "cfg = build.DataflowBuildConfig(\n",
    "    output_dir          = final_output_dir,\n",
    "    mvau_wwidth_max     = 12, #80 was the original but wanted to constrain owidth to multiple of 12 as iwidth = 12\n",
    "    target_fps          = 1000000,\n",
    "    synth_clk_period_ns = 10.0,\n",
    "    board               = \"Ultra96-V2\", # See the modifications done above\n",
    "    shell_flow_type     = build_cfg.ShellFlowType.VIVADO_ZYNQ,\n",
    "    generate_outputs=[\n",
    "        build_cfg.DataflowOutputType.BITFILE,\n",
    "        build_cfg.DataflowOutputType.PYNQ_DRIVER,\n",
    "        build_cfg.DataflowOutputType.DEPLOYMENT_PACKAGE,\n",
    "    ]\n",
    ")"
   ]
  },
  {
   "cell_type": "code",
   "execution_count": 19,
   "id": "374a601e",
   "metadata": {},
   "outputs": [
    {
     "name": "stdout",
     "output_type": "stream",
     "text": [
      "Building dataflow accelerator from ./output_test/finn_lenet_folded.onnx\n",
      "Intermediate outputs will be generated in /home/rstar900/finn/my_builds\n",
      "Final outputs will be generated in ./output_test_deploy\n",
      "Build log is at ./output_test_deploy/build_dataflow.log\n",
      "Running step: step_qonnx_to_finn [1/17]\n",
      "Running step: step_tidy_up [2/17]\n",
      "Running step: step_streamline [3/17]\n",
      "Running step: step_convert_to_hls [4/17]\n",
      "Running step: step_create_dataflow_partition [5/17]\n",
      "Running step: step_target_fps_parallelization [6/17]\n",
      "Running step: step_apply_folding_config [7/17]\n",
      "Running step: step_generate_estimate_reports [8/17]\n",
      "Running step: step_hls_codegen [9/17]\n",
      "Running step: step_hls_ipgen [10/17]\n",
      "Running step: step_set_fifo_depths [11/17]\n",
      "Running step: step_create_stitched_ip [12/17]\n",
      "Running step: step_measure_rtlsim_performance [13/17]\n",
      "Running step: step_out_of_context_synthesis [14/17]\n",
      "Running step: step_synthesize_bitfile [15/17]\n",
      "Running step: step_make_pynq_driver [16/17]\n",
      "Running step: step_deployment_package [17/17]\n",
      "Completed successfully\n",
      "CPU times: user 5.15 s, sys: 409 ms, total: 5.56 s\n",
      "Wall time: 23min 12s\n"
     ]
    },
    {
     "data": {
      "text/plain": [
       "0"
      ]
     },
     "execution_count": 19,
     "metadata": {},
     "output_type": "execute_result"
    }
   ],
   "source": [
    "%%time\n",
    "build.build_dataflow_cfg(model_file, cfg)"
   ]
  },
  {
   "cell_type": "code",
   "execution_count": 22,
   "id": "8af15087",
   "metadata": {},
   "outputs": [
    {
     "data": {
      "text/plain": [
       "'/home/rstar900/finn/notebooks/deploy-on-pynq.zip'"
      ]
     },
     "execution_count": 22,
     "metadata": {},
     "output_type": "execute_result"
    }
   ],
   "source": [
    "# Now compress the deploy folder and send to Pynq board \n",
    "from shutil import make_archive\n",
    "final_output_dir = build_dir + \"_deploy\"\n",
    "make_archive('deploy-on-pynq', 'zip', final_output_dir+\"/deploy\")\n",
    "# scp from terminal after this step\n",
    "# scp ./deploy-on-pynq.zip  xilinx@192.168.3.1:/home/xilinx/"
   ]
  }
 ],
 "metadata": {
  "kernelspec": {
   "display_name": "Python 3 (ipykernel)",
   "language": "python",
   "name": "python3"
  },
  "language_info": {
   "codemirror_mode": {
    "name": "ipython",
    "version": 3
   },
   "file_extension": ".py",
   "mimetype": "text/x-python",
   "name": "python",
   "nbconvert_exporter": "python",
   "pygments_lexer": "ipython3",
   "version": "3.8.5"
  }
 },
 "nbformat": 4,
 "nbformat_minor": 5
}
