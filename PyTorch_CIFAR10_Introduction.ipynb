{
 "cells": [
  {
   "cell_type": "code",
   "execution_count": 1,
   "id": "ace280d2",
   "metadata": {},
   "outputs": [],
   "source": [
    "# Imports\n",
    "import torch\n",
    "import torchvision\n",
    "import torch.nn as nn\n",
    "import torch.nn.functional as F\n",
    "import torch.optim as optim\n",
    "import torchvision.transforms as transforms\n",
    "import matplotlib.pyplot as plt\n",
    "import numpy as np\n",
    "\n",
    "# for exporting to onnx\n",
    "from brevitas.export import FINNManager"
   ]
  },
  {
   "cell_type": "code",
   "execution_count": 2,
   "id": "3f639b88",
   "metadata": {},
   "outputs": [
    {
     "name": "stdout",
     "output_type": "stream",
     "text": [
      "Files already downloaded and verified\n",
      "Files already downloaded and verified\n"
     ]
    }
   ],
   "source": [
    "# transform PILImage images from dataset to tensors\n",
    "#transform = transforms.Compose([transforms.ToTensor(),\n",
    "#                               transforms.Normalize((0.5, 0.5, 0.5), (0.5, 0.5, 0.5))])\n",
    "\n",
    "# Removed Normalize due to hardware not using it\n",
    "transform = transforms.ToTensor();\n",
    "\n",
    "batch_size_train = 4\n",
    "batch_size_test = 4\n",
    "\n",
    "trainset = torchvision.datasets.CIFAR10(root='./data', train=True,\n",
    "                                       download=True, transform=transform)\n",
    "\n",
    "trainloader = torch.utils.data.DataLoader(trainset, batch_size=batch_size_train, \n",
    "                                         shuffle=True, num_workers=2)\n",
    "\n",
    "testset = torchvision.datasets.CIFAR10(root='./data', train=False,\n",
    "                                       download=True, transform=transform)\n",
    "\n",
    "testloader = torch.utils.data.DataLoader(testset, batch_size=batch_size_test, \n",
    "                                         shuffle=False, num_workers=2)\n",
    "\n",
    "classes = ('plane', 'car', 'bird', 'cat',\n",
    "           'deer', 'dog', 'frog', 'horse', 'ship', 'truck')"
   ]
  },
  {
   "cell_type": "code",
   "execution_count": 3,
   "id": "0f35d0b8",
   "metadata": {},
   "outputs": [
    {
     "data": {
      "image/png": "[encoded data removed]",
      "text/plain": [
       "<Figure size 640x480 with 1 Axes>"
      ]
     },
     "metadata": {},
     "output_type": "display_data"
    },
    {
     "name": "stdout",
     "output_type": "stream",
     "text": [
      "frog  ship  horse ship \n"
     ]
    }
   ],
   "source": [
    "# Just showing image for fun\n",
    "\n",
    "def imshow(img):\n",
    "    img = img / 2 + 0.5 # unnormalize\n",
    "    npimg = img.numpy()\n",
    "    plt.imshow(np.transpose(npimg, (1, 2, 0)))\n",
    "    plt.show()\n",
    "    \n",
    "# Get some random training image\n",
    "dataiter = iter(trainloader)\n",
    "images, labels = next(dataiter)\n",
    "\n",
    "# show images\n",
    "imshow(torchvision.utils.make_grid(images))\n",
    "\n",
    "# print labels\n",
    "print(' '.join(f'{classes[labels[j]]:5s}' for j in range(batch_size_train)))"
   ]
  },
  {
   "cell_type": "code",
   "execution_count": 4,
   "id": "a468f0a8",
   "metadata": {},
   "outputs": [],
   "source": [
    "# Define a Neural Network\n",
    "\n",
    "class Net(nn.Module):\n",
    "    \n",
    "    def __init__(self):\n",
    "        super(Net, self).__init__()\n",
    "        \n",
    "        # 2 convolution layers\n",
    "        # 1 input image channel, 6 output channels, 5x5 convolution kernel\n",
    "        self.conv1 = nn.Conv2d(3, 6, 5)\n",
    "        # Adding pooling layer here only this time\n",
    "        self.pool = nn.MaxPool2d(2,2)\n",
    "        self.conv2 = nn.Conv2d(6, 16, 5)\n",
    "        \n",
    "        # 3 fully connected layers\n",
    "        # an affine operation: y = Wx + b\n",
    "        self.fc1 = nn.Linear(16 * 5 * 5, 120)\n",
    "        self.fc2 = nn.Linear(120, 84)\n",
    "        self.fc3 = nn.Linear(84, 10)\n",
    "        \n",
    "        \n",
    "    def forward(self, x):\n",
    "        # Convolution layers\n",
    "        # x is the input image to the Neural Network\n",
    "        # Max pooling over a 2x2 window (since it is square, it can also be specified as 2, instead of (2,2))\n",
    "        x = self.pool(F.relu(self.conv1(x)))\n",
    "        x = self.pool(F.relu(self.conv2(x)))\n",
    "        \n",
    "        # Now applying flattening before passing it to the Fully Connected layers\n",
    "        # flatten all dimensions except the batch dimension\n",
    "        x = torch.flatten(x, 1)\n",
    "        \n",
    "        # Now the Fully Connected layers\n",
    "        x = F.relu(self.fc1(x))\n",
    "        x = F.relu(self.fc2(x))\n",
    "        x = self.fc3(x)\n",
    "        \n",
    "        return x\n",
    "    \n",
    "net = Net()    "
   ]
  },
  {
   "cell_type": "code",
   "execution_count": 5,
   "id": "bba41736",
   "metadata": {},
   "outputs": [
    {
     "name": "stdout",
     "output_type": "stream",
     "text": [
      "The total number of trainable parameters in our NN are: 62006\n"
     ]
    }
   ],
   "source": [
    "# Number of trainable parameters \n",
    "pytorch_params = sum(p.numel() for p in net.parameters() if p.requires_grad)\n",
    "print (\"The total number of trainable parameters in our NN are:\", pytorch_params)"
   ]
  },
  {
   "cell_type": "code",
   "execution_count": 8,
   "id": "53ffc9a5",
   "metadata": {},
   "outputs": [],
   "source": [
    "# Define a loss function (Cross-Entropy loss) and an optimizer (Stochastic Gradient Descent with momentum)\n",
    "criterion = nn.CrossEntropyLoss()\n",
    "#optimizer = optim.SGD(net.parameters(), lr=0.001, momentum=0.9)\n",
    "optimizer = optim.Adam(net.parameters(), lr=0.001)"
   ]
  },
  {
   "cell_type": "code",
   "execution_count": 9,
   "id": "18f30d63",
   "metadata": {},
   "outputs": [
    {
     "name": "stdout",
     "output_type": "stream",
     "text": [
      "[1,  2000] loss: 2.065\n",
      "[1,  4000] loss: 1.733\n",
      "[1,  6000] loss: 1.634\n",
      "[1,  8000] loss: 1.552\n",
      "[1, 10000] loss: 1.520\n",
      "[1, 12000] loss: 1.493\n",
      "[2,  2000] loss: 1.428\n",
      "[2,  4000] loss: 1.424\n",
      "[2,  6000] loss: 1.401\n",
      "[2,  8000] loss: 1.428\n",
      "[2, 10000] loss: 1.403\n",
      "[2, 12000] loss: 1.379\n",
      "[3,  2000] loss: 1.319\n",
      "[3,  4000] loss: 1.305\n",
      "[3,  6000] loss: 1.319\n",
      "[3,  8000] loss: 1.310\n",
      "[3, 10000] loss: 1.327\n",
      "[3, 12000] loss: 1.302\n",
      "[4,  2000] loss: 1.236\n",
      "[4,  4000] loss: 1.245\n",
      "[4,  6000] loss: 1.237\n",
      "[4,  8000] loss: 1.246\n",
      "[4, 10000] loss: 1.256\n",
      "[4, 12000] loss: 1.229\n",
      "[5,  2000] loss: 1.166\n",
      "[5,  4000] loss: 1.172\n",
      "[5,  6000] loss: 1.172\n",
      "[5,  8000] loss: 1.195\n",
      "[5, 10000] loss: 1.210\n",
      "[5, 12000] loss: 1.218\n",
      "[6,  2000] loss: 1.135\n",
      "[6,  4000] loss: 1.151\n",
      "[6,  6000] loss: 1.170\n",
      "[6,  8000] loss: 1.134\n",
      "[6, 10000] loss: 1.151\n",
      "[6, 12000] loss: 1.162\n",
      "[7,  2000] loss: 1.076\n",
      "[7,  4000] loss: 1.105\n",
      "[7,  6000] loss: 1.109\n",
      "[7,  8000] loss: 1.122\n",
      "[7, 10000] loss: 1.116\n",
      "[7, 12000] loss: 1.164\n",
      "[8,  2000] loss: 1.038\n",
      "[8,  4000] loss: 1.070\n",
      "[8,  6000] loss: 1.085\n",
      "[8,  8000] loss: 1.096\n",
      "[8, 10000] loss: 1.114\n",
      "[8, 12000] loss: 1.110\n",
      "[9,  2000] loss: 1.042\n",
      "[9,  4000] loss: 1.065\n",
      "[9,  6000] loss: 1.064\n",
      "[9,  8000] loss: 1.066\n",
      "[9, 10000] loss: 1.037\n",
      "[9, 12000] loss: 1.080\n",
      "[10,  2000] loss: 0.994\n",
      "[10,  4000] loss: 1.021\n",
      "[10,  6000] loss: 1.025\n",
      "[10,  8000] loss: 1.063\n",
      "[10, 10000] loss: 1.053\n",
      "[10, 12000] loss: 1.067\n",
      "Finished Training\n"
     ]
    }
   ],
   "source": [
    "for epoch in range(10):\n",
    "    \n",
    "    running_loss = 0.0\n",
    "    \n",
    "    for i, data in enumerate(trainloader, 0): # enumerate used to put a counter with every data item\n",
    "        inputs, labels = data\n",
    "    \n",
    "        optimizer.zero_grad()\n",
    "    \n",
    "        # forward + backward + optimize\n",
    "        outputs = net(inputs)\n",
    "        loss = criterion(outputs, labels)\n",
    "        loss.backward()\n",
    "        optimizer.step()\n",
    "    \n",
    "        # print stats\n",
    "        running_loss += loss.item()\n",
    "        if i % 2000 == 1999:\n",
    "            print(f'[{epoch + 1}, {i + 1:5d}] loss: {running_loss / 2000:.3f}')\n",
    "            running_loss = 0.0\n",
    "\n",
    "print('Finished Training')"
   ]
  },
  {
   "cell_type": "code",
   "execution_count": null,
   "id": "0b730655",
   "metadata": {},
   "outputs": [],
   "source": [
    "# Save the trained model\n",
    "torch.save(net.state_dict(), './cifar_net.pth')\n",
    "\n",
    "# Save using onnx format (for comparison)\n",
    "FINNManager.export(net, input_shape=(1, 3, 32, 32), export_path='finn_lenet_non_quantized.onnx')"
   ]
  },
  {
   "cell_type": "code",
   "execution_count": 11,
   "id": "ce73e732",
   "metadata": {},
   "outputs": [
    {
     "data": {
      "image/png": "[encoded data removed]",
      "text/plain": [
       "<Figure size 640x480 with 1 Axes>"
      ]
     },
     "metadata": {},
     "output_type": "display_data"
    },
    {
     "name": "stdout",
     "output_type": "stream",
     "text": [
      "GroundTruth:  cat   ship  ship  plane\n"
     ]
    }
   ],
   "source": [
    "# Displaying an image from the test set\n",
    "dataiter = iter(testloader)\n",
    "images, labels = next(dataiter)\n",
    "\n",
    "imshow(torchvision.utils.make_grid(images))\n",
    "print('GroundTruth: ', ' '.join(f'{classes[labels[j]]:5s}' for j in range(4)))"
   ]
  },
  {
   "cell_type": "code",
   "execution_count": 21,
   "id": "acd320f4",
   "metadata": {},
   "outputs": [
    {
     "data": {
      "text/plain": [
       "<All keys matched successfully>"
      ]
     },
     "execution_count": 21,
     "metadata": {},
     "output_type": "execute_result"
    }
   ],
   "source": [
    "# Loading saved model from the file (not necessary in this case but just for illustration)\n",
    "net = Net()\n",
    "net.load_state_dict(torch.load('./cifar_net.pth'))\n"
   ]
  },
  {
   "cell_type": "code",
   "execution_count": 12,
   "id": "80dd8f96",
   "metadata": {},
   "outputs": [
    {
     "name": "stdout",
     "output_type": "stream",
     "text": [
      "Predicted:  cat   ship  ship  ship \n"
     ]
    }
   ],
   "source": [
    "# Check the prediction of the model on the trianing set\n",
    "outputs = net(images)\n",
    "_, predicted = torch.max(outputs, 1) # _ is to ignore first thing and 1 is given in max() for the 1st field (0 indexed)\n",
    "\n",
    "print('Predicted: ', ' '.join(f'{classes[predicted[j]]:5s}'\n",
    "                              for j in range(4)))"
   ]
  },
  {
   "cell_type": "code",
   "execution_count": 13,
   "id": "8b7750ca",
   "metadata": {},
   "outputs": [
    {
     "name": "stdout",
     "output_type": "stream",
     "text": [
      "Accuracy of the network on the 10000 test images: 56 %\n"
     ]
    }
   ],
   "source": [
    "# Benchmarking the model over the whole dataset\n",
    "\n",
    "correct = 0\n",
    "total = 0\n",
    "\n",
    "# Not calculating gradients as we are not training\n",
    "with torch.no_grad():\n",
    "    for data in testloader:\n",
    "        images, labels = data\n",
    "        outputs = net(images)\n",
    "        _, predicted = torch.max(outputs.data, 1)\n",
    "        total += labels.size(0)\n",
    "        correct += (predicted == labels).sum().item()\n",
    "        \n",
    "print(f'Accuracy of the network on the 10000 test images: {100 * correct // total} %')        "
   ]
  },
  {
   "cell_type": "code",
   "execution_count": 14,
   "id": "a849c385",
   "metadata": {},
   "outputs": [
    {
     "name": "stdout",
     "output_type": "stream",
     "text": [
      "Accuracy for class: plane is 55.8 %\n",
      "Accuracy for class: car   is 53.2 %\n",
      "Accuracy for class: bird  is 48.9 %\n",
      "Accuracy for class: cat   is 30.3 %\n",
      "Accuracy for class: deer  is 54.9 %\n",
      "Accuracy for class: dog   is 45.7 %\n",
      "Accuracy for class: frog  is 62.4 %\n",
      "Accuracy for class: horse is 60.8 %\n",
      "Accuracy for class: ship  is 80.5 %\n",
      "Accuracy for class: truck is 69.7 %\n"
     ]
    }
   ],
   "source": [
    "# Calculating classwise accuracy\n",
    "\n",
    "correct_pred = {classname: 0 for classname in classes} # set each class to 0 in the dictionary\n",
    "total_pred = {classname: 0 for classname in classes}\n",
    "\n",
    "with torch.no_grad():\n",
    "    for data in testloader:\n",
    "        images, labels = data\n",
    "        outputs = net(images)\n",
    "        _, predictions = torch.max(outputs, 1)\n",
    "        # count the correct and total predictions\n",
    "        for label, prediction in zip(labels, predictions):\n",
    "            if label == prediction:\n",
    "                correct_pred[classes[label]] += 1\n",
    "            total_pred[classes[label]] += 1 \n",
    "            \n",
    "# print the accuracy for each class \n",
    "for classname, correct_count in correct_pred.items():\n",
    "    accuracy = 100 * float(correct_count) / total_pred[classname]\n",
    "    print(f'Accuracy for class: {classname:5s} is {accuracy:.1f} %')"
   ]
  }
 ],
 "metadata": {
  "kernelspec": {
   "display_name": "Python 3 (ipykernel)",
   "language": "python",
   "name": "python3"
  },
  "language_info": {
   "codemirror_mode": {
    "name": "ipython",
    "version": 3
   },
   "file_extension": ".py",
   "mimetype": "text/x-python",
   "name": "python",
   "nbconvert_exporter": "python",
   "pygments_lexer": "ipython3",
   "version": "3.9.15"
  }
 },
 "nbformat": 4,
 "nbformat_minor": 5
}
