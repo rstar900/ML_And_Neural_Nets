{
 "cells": [
  {
   "cell_type": "code",
   "execution_count": 1,
   "id": "ace280d2",
   "metadata": {},
   "outputs": [],
   "source": [
    "# Imports\n",
    "import torch\n",
    "import torchvision\n",
    "import torch.nn as nn\n",
    "import torch.nn.functional as F\n",
    "import torch.optim as optim\n",
    "import torchvision.transforms as transforms\n",
    "import matplotlib.pyplot as plt\n",
    "import numpy as np\n"
   ]
  },
  {
   "cell_type": "code",
   "execution_count": 2,
   "id": "3f639b88",
   "metadata": {},
   "outputs": [
    {
     "name": "stdout",
     "output_type": "stream",
     "text": [
      "Files already downloaded and verified\n",
      "Files already downloaded and verified\n"
     ]
    }
   ],
   "source": [
    "# transform PILImage images from dataset to tensors\n",
    "transform = transforms.Compose([transforms.ToTensor(),\n",
    "                               transforms.Normalize((0.5, 0.5, 0.5), (0.5, 0.5, 0.5))])\n",
    "\n",
    "batch_size = 4\n",
    "\n",
    "trainset = torchvision.datasets.CIFAR10(root='./data', train=True,\n",
    "                                       download=True, transform=transform)\n",
    "\n",
    "trainloader = torch.utils.data.DataLoader(trainset, batch_size=batch_size, \n",
    "                                         shuffle=True, num_workers=2)\n",
    "\n",
    "testset = torchvision.datasets.CIFAR10(root='./data', train=False,\n",
    "                                       download=True, transform=transform)\n",
    "\n",
    "testloader = torch.utils.data.DataLoader(testset, batch_size=batch_size, \n",
    "                                         shuffle=False, num_workers=2)\n",
    "\n",
    "classes = ('plane', 'car', 'bird', 'cat',\n",
    "           'deer', 'dog', 'frog', 'horse', 'ship', 'truck')"
   ]
  },
  {
   "cell_type": "code",
   "execution_count": 3,
   "id": "0f35d0b8",
   "metadata": {},
   "outputs": [
    {
     "data": {
      "image/png": "[encoded data removed]",
      "text/plain": [
       "<Figure size 640x480 with 1 Axes>"
      ]
     },
     "metadata": {},
     "output_type": "display_data"
    },
    {
     "name": "stdout",
     "output_type": "stream",
     "text": [
      "plane frog  cat   horse\n"
     ]
    }
   ],
   "source": [
    "# Just showing image for fun\n",
    "\n",
    "def imshow(img):\n",
    "    img = img / 2 + 0.5 # unnormalize\n",
    "    npimg = img.numpy()\n",
    "    plt.imshow(np.transpose(npimg, (1, 2, 0)))\n",
    "    plt.show()\n",
    "    \n",
    "# Get some random training image\n",
    "dataiter = iter(trainloader)\n",
    "images, labels = next(dataiter)\n",
    "\n",
    "# show images\n",
    "imshow(torchvision.utils.make_grid(images))\n",
    "\n",
    "# print labels\n",
    "print(' '.join(f'{classes[labels[j]]:5s}' for j in range(batch_size)))"
   ]
  },
  {
   "cell_type": "code",
   "execution_count": 4,
   "id": "a468f0a8",
   "metadata": {},
   "outputs": [],
   "source": [
    "# Define a Neural Network\n",
    "\n",
    "class Net(nn.Module):\n",
    "    \n",
    "    def __init__(self):\n",
    "        super(Net, self).__init__()\n",
    "        \n",
    "        # 2 convolution layers\n",
    "        # 1 input image channel, 6 output channels, 5x5 convolution kernel\n",
    "        self.conv1 = nn.Conv2d(3, 6, 5)\n",
    "        # Adding pooling layer here only this time\n",
    "        self.pool = nn.MaxPool2d(2,2)\n",
    "        self.conv2 = nn.Conv2d(6, 16, 5)\n",
    "        \n",
    "        # 3 fully connected layers\n",
    "        # an affine operation: y = Wx + b\n",
    "        self.fc1 = nn.Linear(16 * 5 * 5, 120)\n",
    "        self.fc2 = nn.Linear(120, 84)\n",
    "        self.fc3 = nn.Linear(84, 10)\n",
    "        \n",
    "        \n",
    "    def forward(self, x):\n",
    "        # Convolution layers\n",
    "        # x is the input image to the Neural Network\n",
    "        # Max pooling over a 2x2 window (since it is square, it can also be specified as 2, instead of (2,2))\n",
    "        x = self.pool(F.relu(self.conv1(x)))\n",
    "        x = self.pool(F.relu(self.conv2(x)))\n",
    "        \n",
    "        # Now applying flattening before passing it to the Fully Connected layers\n",
    "        # flatten all dimensions except the batch dimension\n",
    "        x = torch.flatten(x, 1)\n",
    "        \n",
    "        # Now the Fully Connected layers\n",
    "        x = F.relu(self.fc1(x))\n",
    "        x = F.relu(self.fc2(x))\n",
    "        x = self.fc3(x)\n",
    "        \n",
    "        return x\n",
    "    \n",
    "net = Net()    "
   ]
  },
  {
   "cell_type": "code",
   "execution_count": 5,
   "id": "53ffc9a5",
   "metadata": {},
   "outputs": [],
   "source": [
    "# Define a loss function (Cross-Entropy loss) and an optimizer (Stochastic Gradient Descent with momentum)\n",
    "criterion = nn.CrossEntropyLoss()\n",
    "optimizer = optim.SGD(net.parameters(), lr=0.001, momentum=0.9)"
   ]
  },
  {
   "cell_type": "code",
   "execution_count": 6,
   "id": "18f30d63",
   "metadata": {},
   "outputs": [
    {
     "name": "stdout",
     "output_type": "stream",
     "text": [
      "[1,  2000] loss: 2.165\n",
      "[1,  4000] loss: 1.839\n",
      "[1,  6000] loss: 1.655\n",
      "[1,  8000] loss: 1.568\n",
      "[1, 10000] loss: 1.522\n",
      "[1, 12000] loss: 1.468\n",
      "[2,  2000] loss: 1.385\n",
      "[2,  4000] loss: 1.365\n",
      "[2,  6000] loss: 1.367\n",
      "[2,  8000] loss: 1.350\n",
      "[2, 10000] loss: 1.275\n",
      "[2, 12000] loss: 1.274\n",
      "Finished Training\n"
     ]
    }
   ],
   "source": [
    "for epoch in range(2):\n",
    "    \n",
    "    running_loss = 0.0\n",
    "    \n",
    "    for i, data in enumerate(trainloader, 0): # enumerate used to put a counter with every data item\n",
    "        inputs, labels = data\n",
    "    \n",
    "        optimizer.zero_grad()\n",
    "    \n",
    "        # forward + backward + optimize\n",
    "        outputs = net(inputs)\n",
    "        loss = criterion(outputs, labels)\n",
    "        loss.backward()\n",
    "        optimizer.step()\n",
    "    \n",
    "        # print stats\n",
    "        running_loss += loss.item()\n",
    "        if i % 2000 == 1999:\n",
    "            print(f'[{epoch + 1}, {i + 1:5d}] loss: {running_loss / 2000:.3f}')\n",
    "            running_loss = 0.0\n",
    "\n",
    "print('Finished Training')"
   ]
  },
  {
   "cell_type": "code",
   "execution_count": 7,
   "id": "0b730655",
   "metadata": {},
   "outputs": [],
   "source": [
    "# Save the trained model\n",
    "torch.save(net.state_dict(), './cifar_net.pth')"
   ]
  },
  {
   "cell_type": "code",
   "execution_count": 8,
   "id": "ce73e732",
   "metadata": {},
   "outputs": [
    {
     "data": {
      "image/png": "[encoded data removed]",
      "text/plain": [
       "<Figure size 640x480 with 1 Axes>"
      ]
     },
     "metadata": {},
     "output_type": "display_data"
    },
    {
     "name": "stdout",
     "output_type": "stream",
     "text": [
      "GroundTruth:  cat   ship  ship  plane\n"
     ]
    }
   ],
   "source": [
    "# Displaying an image from the test set\n",
    "dataiter = iter(testloader)\n",
    "images, labels = next(dataiter)\n",
    "\n",
    "imshow(torchvision.utils.make_grid(images))\n",
    "print('GroundTruth: ', ' '.join(f'{classes[labels[j]]:5s}' for j in range(4)))"
   ]
  },
  {
   "cell_type": "code",
   "execution_count": 9,
   "id": "acd320f4",
   "metadata": {},
   "outputs": [
    {
     "data": {
      "text/plain": [
       "<All keys matched successfully>"
      ]
     },
     "execution_count": 9,
     "metadata": {},
     "output_type": "execute_result"
    }
   ],
   "source": [
    "# Loading saved model from the file (not necessary in this case but just for illustration)\n",
    "net = Net()\n",
    "net.load_state_dict(torch.load('./cifar_net.pth'))"
   ]
  },
  {
   "cell_type": "code",
   "execution_count": 10,
   "id": "80dd8f96",
   "metadata": {},
   "outputs": [
    {
     "name": "stdout",
     "output_type": "stream",
     "text": [
      "Predicted:  cat   ship  plane ship \n"
     ]
    }
   ],
   "source": [
    "# Check the prediction of the model on the trianing set\n",
    "outputs = net(images)\n",
    "_, predicted = torch.max(outputs, 1) # _ is to ignore first thing and 1 is given in max() for the 1st field (0 indexed)\n",
    "\n",
    "print('Predicted: ', ' '.join(f'{classes[predicted[j]]:5s}'\n",
    "                              for j in range(4)))"
   ]
  },
  {
   "cell_type": "code",
   "execution_count": 11,
   "id": "8b7750ca",
   "metadata": {},
   "outputs": [
    {
     "name": "stdout",
     "output_type": "stream",
     "text": [
      "Accuracy of the network on the 10000 test images: 55 %\n"
     ]
    }
   ],
   "source": [
    "# Benchmarking the model over the whole dataset\n",
    "\n",
    "correct = 0\n",
    "total = 0\n",
    "\n",
    "# Not calculating gradients as we are not training\n",
    "with torch.no_grad():\n",
    "    for data in testloader:\n",
    "        images, labels = data\n",
    "        outputs = net(images)\n",
    "        _, predicted = torch.max(outputs.data, 1)\n",
    "        total += labels.size(0)\n",
    "        correct += (predicted == labels).sum().item()\n",
    "        \n",
    "print(f'Accuracy of the network on the 10000 test images: {100 * correct // total} %')        "
   ]
  },
  {
   "cell_type": "code",
   "execution_count": 14,
   "id": "a849c385",
   "metadata": {},
   "outputs": [
    {
     "name": "stdout",
     "output_type": "stream",
     "text": [
      "Accuracy for class: plane is 61.9 %\n",
      "Accuracy for class: car   is 67.0 %\n",
      "Accuracy for class: bird  is 23.0 %\n",
      "Accuracy for class: cat   is 49.1 %\n",
      "Accuracy for class: deer  is 58.4 %\n",
      "Accuracy for class: dog   is 31.2 %\n",
      "Accuracy for class: frog  is 60.1 %\n",
      "Accuracy for class: horse is 62.8 %\n",
      "Accuracy for class: ship  is 67.7 %\n",
      "Accuracy for class: truck is 69.8 %\n"
     ]
    }
   ],
   "source": [
    "# Calculating classwise accuracy\n",
    "\n",
    "correct_pred = {classname: 0 for classname in classes} # set each class to 0 in the dictionary\n",
    "total_pred = {classname: 0 for classname in classes}\n",
    "\n",
    "with torch.no_grad():\n",
    "    for data in testloader:\n",
    "        images, labels = data\n",
    "        outputs = net(images)\n",
    "        _, predictions = torch.max(outputs, 1)\n",
    "        # count the correct and total predictions\n",
    "        for label, prediction in zip(labels, predictions):\n",
    "            if label == prediction:\n",
    "                correct_pred[classes[label]] += 1\n",
    "            total_pred[classes[label]] += 1 \n",
    "            \n",
    "# print the accuracy for each class \n",
    "for classname, correct_count in correct_pred.items():\n",
    "    accuracy = 100 * float(correct_count) / total_pred[classname]\n",
    "    print(f'Accuracy for class: {classname:5s} is {accuracy:.1f} %')"
   ]
  },
  {
   "cell_type": "code",
   "execution_count": null,
   "id": "f4df97da",
   "metadata": {},
   "outputs": [],
   "source": []
  }
 ],
 "metadata": {
  "kernelspec": {
   "display_name": "Python 3 (ipykernel)",
   "language": "python",
   "name": "python3"
  },
  "language_info": {
   "codemirror_mode": {
    "name": "ipython",
    "version": 3
   },
   "file_extension": ".py",
   "mimetype": "text/x-python",
   "name": "python",
   "nbconvert_exporter": "python",
   "pygments_lexer": "ipython3",
   "version": "3.10.6"
  }
 },
 "nbformat": 4,
 "nbformat_minor": 5
}
