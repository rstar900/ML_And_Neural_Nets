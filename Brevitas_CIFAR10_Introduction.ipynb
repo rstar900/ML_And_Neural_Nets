{
 "cells": [
  {
   "cell_type": "code",
   "execution_count": 1,
   "id": "64616685",
   "metadata": {},
   "outputs": [
    {
     "name": "stdout",
     "output_type": "stream",
     "text": [
      "1.13.0+cu117\n"
     ]
    }
   ],
   "source": [
    "# Converting already existing example at https://github.com/rstar900/ML_And_Neural_Nets/blob/main/PyTorch_CIFAR10_Introduction.ipynb\n",
    "# from PyTorch based nn to Brevitas based Integer Only QNN (3 bit weights, 4 bit ReLU activations, and 8 bits bias)\n",
    "\n",
    "# Imports\n",
    "import torch\n",
    "import torchvision\n",
    "import torch.nn as nn\n",
    "import torch.nn.functional as F\n",
    "import torch.optim as optim\n",
    "import torchvision.transforms as transforms\n",
    "import matplotlib.pyplot as plt\n",
    "import numpy as np\n",
    "\n",
    "# Import for Brevitas\n",
    "import brevitas.nn as qnn\n",
    "from brevitas.quant import Int8Bias as BiasQuant\n",
    "from brevitas.export import FINNManager\n",
    "\n",
    "print(torch.__version__)"
   ]
  },
  {
   "cell_type": "code",
   "execution_count": 2,
   "id": "5cd17e49",
   "metadata": {},
   "outputs": [
    {
     "name": "stdout",
     "output_type": "stream",
     "text": [
      "Files already downloaded and verified\n",
      "Files already downloaded and verified\n"
     ]
    }
   ],
   "source": [
    "# transform PILImage images from dataset to tensors\n",
    "transform = transforms.Compose([transforms.ToTensor(),\n",
    "                               transforms.Normalize((0.5, 0.5, 0.5), (0.5, 0.5, 0.5))])\n",
    "\n",
    "batch_size = 4\n",
    "\n",
    "trainset = torchvision.datasets.CIFAR10(root='./data', train=True,\n",
    "                                       download=True, transform=transform)\n",
    "\n",
    "trainloader = torch.utils.data.DataLoader(trainset, batch_size=batch_size, \n",
    "                                         shuffle=True, num_workers=2)\n",
    "\n",
    "testset = torchvision.datasets.CIFAR10(root='./data', train=False,\n",
    "                                       download=True, transform=transform)\n",
    "\n",
    "testloader = torch.utils.data.DataLoader(testset, batch_size=batch_size, \n",
    "                                         shuffle=False, num_workers=2)\n",
    "\n",
    "classes = ('plane', 'car', 'bird', 'cat',\n",
    "           'deer', 'dog', 'frog', 'horse', 'ship', 'truck')"
   ]
  },
  {
   "cell_type": "code",
   "execution_count": 3,
   "id": "e8ed8dd2",
   "metadata": {},
   "outputs": [
    {
     "data": {
      "image/png": "[encoded data removed]",
      "text/plain": [
       "<Figure size 640x480 with 1 Axes>"
      ]
     },
     "metadata": {},
     "output_type": "display_data"
    },
    {
     "name": "stdout",
     "output_type": "stream",
     "text": [
      "cat   dog   plane bird \n"
     ]
    }
   ],
   "source": [
    "# Just showing image for fun\n",
    "\n",
    "def imshow(img):\n",
    "    img = img / 2 + 0.5 # unnormalize\n",
    "    npimg = img.numpy()\n",
    "    plt.imshow(np.transpose(npimg, (1, 2, 0)))\n",
    "    plt.show()\n",
    "    \n",
    "# Get some random training image\n",
    "dataiter = iter(trainloader)\n",
    "images, labels = next(dataiter)\n",
    "\n",
    "# show images\n",
    "imshow(torchvision.utils.make_grid(images))\n",
    "\n",
    "# print labels\n",
    "print(' '.join(f'{classes[labels[j]]:5s}' for j in range(batch_size)))"
   ]
  },
  {
   "cell_type": "code",
   "execution_count": 4,
   "id": "053f41b9",
   "metadata": {},
   "outputs": [],
   "source": [
    "# Define a Neural Network (Modified to qnn by converting convolutional layers and fully connected to qnn ones)\n",
    "\n",
    "class LowPrecisionNet(nn.Module):\n",
    "    \n",
    "    def __init__(self):\n",
    "        super(LowPrecisionNet, self).__init__()\n",
    "        \n",
    "        # Input quantization layer\n",
    "        self.quant_inp = qnn.QuantIdentity(bit_width=4, return_quant_tensor=True)\n",
    "        \n",
    "        # 2 convolution layers and Quantized ReLU between each of them\n",
    "        # 3 input image channel, 6 output channels, 5x5 convolution kernel\n",
    "        self.conv1 = qnn.QuantConv2d(3, 6, 5, weight_bit_width=3, bias_quant=BiasQuant, return_quant_tensor=True)\n",
    "        self.relu1 = qnn.QuantReLU(bit_width=4, return_quant_tensor=True)\n",
    "        self.conv2 = qnn.QuantConv2d(6, 16, 5, weight_bit_width=3, bias_quant=BiasQuant, return_quant_tensor=True)\n",
    "        self.relu2 = qnn.QuantReLU(bit_width=4, return_quant_tensor=True)\n",
    "        \n",
    "        # 3 fully connected layers\n",
    "        # an affine operation: y = Wx + b\n",
    "        self.fc1 = qnn.QuantLinear(16 * 5 * 5, 120, bias=True, weight_bit_width=3, bias_quant=BiasQuant, return_quant_tensor=True)\n",
    "        self.relu3 = qnn.QuantReLU(bit_width=4, return_quant_tensor=True)\n",
    "        self.fc2 = qnn.QuantLinear(120, 84, bias=True, weight_bit_width=3, bias_quant=BiasQuant, return_quant_tensor=True)\n",
    "        self.relu4 = qnn.QuantReLU(bit_width=4, return_quant_tensor=True)\n",
    "        self.fc3 = qnn.QuantLinear(84, 10, bias=False, weight_bit_width=3)\n",
    "        \n",
    "        \n",
    "    def forward(self, x):\n",
    "        x = self.quant_inp(x)\n",
    "        x = self.relu1(self.conv1(x))\n",
    "        x = F.max_pool2d(x, 2)\n",
    "        x = self.relu2(self.conv2(x))\n",
    "        x = F.max_pool2d(x, 2)\n",
    "        x = x.reshape(x.shape[0], -1) # Flatten\n",
    "        x = self.relu3(self.fc1(x))\n",
    "        x = self.relu4(self.fc2(x))\n",
    "        x = self.fc3(x)\n",
    "        \n",
    "        return x\n",
    "    \n",
    "net = LowPrecisionNet()    "
   ]
  },
  {
   "cell_type": "code",
   "execution_count": 5,
   "id": "bf21e6c5",
   "metadata": {},
   "outputs": [],
   "source": [
    "# Define a loss function (Cross-Entropy loss) and an optimizer (Stochastic Gradient Descent with momentum)\n",
    "criterion = nn.CrossEntropyLoss()\n",
    "optimizer = optim.Adam(net.parameters(), lr=0.001)"
   ]
  },
  {
   "cell_type": "code",
   "execution_count": 6,
   "id": "fc196ced",
   "metadata": {},
   "outputs": [
    {
     "name": "stdout",
     "output_type": "stream",
     "text": [
      "[1,  2000] loss: 1.894\n",
      "[1,  4000] loss: 1.659\n",
      "[1,  6000] loss: 1.609\n",
      "[1,  8000] loss: 1.530\n",
      "[1, 10000] loss: 1.516\n",
      "[1, 12000] loss: 1.490\n",
      "[2,  2000] loss: 1.445\n",
      "[2,  4000] loss: 1.450\n",
      "[2,  6000] loss: 1.417\n",
      "[2,  8000] loss: 1.412\n",
      "[2, 10000] loss: 1.369\n",
      "[2, 12000] loss: 1.380\n",
      "Finished Training\n"
     ]
    }
   ],
   "source": [
    "for epoch in range(2):\n",
    "    \n",
    "    running_loss = 0.0\n",
    "    \n",
    "    for i, data in enumerate(trainloader, 0): # enumerate used to put a counter with every data item\n",
    "        inputs, labels = data\n",
    "    \n",
    "        optimizer.zero_grad()\n",
    "    \n",
    "        # forward + backward + optimize\n",
    "        outputs = net(inputs)\n",
    "        loss = criterion(outputs, labels)\n",
    "        loss.backward()\n",
    "        optimizer.step()\n",
    "    \n",
    "        # print stats\n",
    "        running_loss += loss.item()\n",
    "        if i % 2000 == 1999:\n",
    "            print(f'[{epoch + 1}, {i + 1:5d}] loss: {running_loss / 2000:.3f}')\n",
    "            running_loss = 0.0\n",
    "\n",
    "print('Finished Training')"
   ]
  },
  {
   "cell_type": "code",
   "execution_count": null,
   "id": "ae3575ec",
   "metadata": {},
   "outputs": [],
   "source": [
    "# Save the trained model using pytorch (may not work directly)\n",
    "#torch.save(net.state_dict(), './cifar_net.pth')\n",
    "\n",
    "# Save using onnx format (Need to fix the error)\n",
    "FINNManager.export(net, input_shape=(1, 3, 32, 32), export_path='finn_lenet.onnx')"
   ]
  },
  {
   "cell_type": "code",
   "execution_count": 7,
   "id": "4aae7b7d",
   "metadata": {},
   "outputs": [
    {
     "data": {
      "image/png": "[encoded data removed]",
      "text/plain": [
       "<Figure size 640x480 with 1 Axes>"
      ]
     },
     "metadata": {},
     "output_type": "display_data"
    },
    {
     "name": "stdout",
     "output_type": "stream",
     "text": [
      "GroundTruth:  cat   ship  ship  plane\n"
     ]
    }
   ],
   "source": [
    "# Displaying an image from the test set\n",
    "dataiter = iter(testloader)\n",
    "images, labels = next(dataiter)\n",
    "\n",
    "imshow(torchvision.utils.make_grid(images))\n",
    "print('GroundTruth: ', ' '.join(f'{classes[labels[j]]:5s}' for j in range(4)))"
   ]
  },
  {
   "cell_type": "code",
   "execution_count": 9,
   "id": "e3886cf2",
   "metadata": {},
   "outputs": [
    {
     "name": "stdout",
     "output_type": "stream",
     "text": [
      "Predicted:  cat   ship  car   car  \n"
     ]
    }
   ],
   "source": [
    "# Loading saved model not required here\n",
    "\n",
    "# Check the prediction of the model on the trianing set\n",
    "outputs = net(images)\n",
    "_, predicted = torch.max(outputs, 1) # _ is to ignore first thing and 1 is given in max() for the 1st field (0 indexed)\n",
    "\n",
    "print('Predicted: ', ' '.join(f'{classes[predicted[j]]:5s}'\n",
    "                              for j in range(4)))"
   ]
  },
  {
   "cell_type": "code",
   "execution_count": 11,
   "id": "7bb31df2",
   "metadata": {},
   "outputs": [
    {
     "name": "stdout",
     "output_type": "stream",
     "text": [
      "Accuracy of the network on the 10000 test images: 50 %\n"
     ]
    }
   ],
   "source": [
    "# Benchmarking the model over the whole dataset\n",
    "\n",
    "correct = 0\n",
    "total = 0\n",
    "\n",
    "# Not calculating gradients as we are not training\n",
    "with torch.no_grad():\n",
    "    for data in testloader:\n",
    "        images, labels = data\n",
    "        outputs = net(images)\n",
    "        _, predicted = torch.max(outputs.data, 1)\n",
    "        total += labels.size(0)\n",
    "        correct += (predicted == labels).sum().item()\n",
    "        \n",
    "print(f'Accuracy of the network on the 10000 test images: {100 * correct // total} %') "
   ]
  },
  {
   "cell_type": "code",
   "execution_count": 12,
   "id": "fddcb474",
   "metadata": {},
   "outputs": [
    {
     "name": "stdout",
     "output_type": "stream",
     "text": [
      "Accuracy for class: plane is 45.0 %\n",
      "Accuracy for class: car   is 57.6 %\n",
      "Accuracy for class: bird  is 34.3 %\n",
      "Accuracy for class: cat   is 22.7 %\n",
      "Accuracy for class: deer  is 46.2 %\n",
      "Accuracy for class: dog   is 47.3 %\n",
      "Accuracy for class: frog  is 71.1 %\n",
      "Accuracy for class: horse is 57.9 %\n",
      "Accuracy for class: ship  is 64.7 %\n",
      "Accuracy for class: truck is 62.7 %\n"
     ]
    }
   ],
   "source": [
    "# Calculating classwise accuracy\n",
    "\n",
    "correct_pred = {classname: 0 for classname in classes} # set each class to 0 in the dictionary\n",
    "total_pred = {classname: 0 for classname in classes}\n",
    "\n",
    "with torch.no_grad():\n",
    "    for data in testloader:\n",
    "        images, labels = data\n",
    "        outputs = net(images)\n",
    "        _, predictions = torch.max(outputs, 1)\n",
    "        # count the correct and total predictions\n",
    "        for label, prediction in zip(labels, predictions):\n",
    "            if label == prediction:\n",
    "                correct_pred[classes[label]] += 1\n",
    "            total_pred[classes[label]] += 1 \n",
    "            \n",
    "# print the accuracy for each class \n",
    "for classname, correct_count in correct_pred.items():\n",
    "    accuracy = 100 * float(correct_count) / total_pred[classname]\n",
    "    print(f'Accuracy for class: {classname:5s} is {accuracy:.1f} %')"
   ]
  }
 ],
 "metadata": {
  "kernelspec": {
   "display_name": "Python 3 (ipykernel)",
   "language": "python",
   "name": "python3"
  },
  "language_info": {
   "codemirror_mode": {
    "name": "ipython",
    "version": 3
   },
   "file_extension": ".py",
   "mimetype": "text/x-python",
   "name": "python",
   "nbconvert_exporter": "python",
   "pygments_lexer": "ipython3",
   "version": "3.10.6"
  }
 },
 "nbformat": 4,
 "nbformat_minor": 5
}
