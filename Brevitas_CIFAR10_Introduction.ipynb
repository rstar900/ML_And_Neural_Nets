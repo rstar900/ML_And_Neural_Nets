{
 "cells": [
  {
   "cell_type": "code",
   "execution_count": 1,
   "id": "64616685",
   "metadata": {},
   "outputs": [
    {
     "name": "stdout",
     "output_type": "stream",
     "text": [
      "1.13.0+cu117\n"
     ]
    }
   ],
   "source": [
    "# Converting already existing example at https://github.com/rstar900/ML_And_Neural_Nets/blob/main/PyTorch_CIFAR10_Introduction.ipynb\n",
    "# from PyTorch based nn to Brevitas based Integer Only QNN (3 bit weights, 4 bit ReLU activations, and 8 bits bias)\n",
    "\n",
    "# Imports\n",
    "import torch\n",
    "import torchvision\n",
    "import torch.nn as nn\n",
    "import torch.nn.functional as F\n",
    "import torch.optim as optim\n",
    "import torchvision.transforms as transforms\n",
    "import matplotlib.pyplot as plt\n",
    "import numpy as np\n",
    "\n",
    "# Import for Brevitas\n",
    "import brevitas.nn as qnn\n",
    "from brevitas.quant import Int8Bias as BiasQuant\n",
    "from brevitas.export import FINNManager\n",
    "\n",
    "print(torch.__version__)"
   ]
  },
  {
   "cell_type": "code",
   "execution_count": 2,
   "id": "de774292",
   "metadata": {},
   "outputs": [
    {
     "name": "stdout",
     "output_type": "stream",
     "text": [
      "Files already downloaded and verified\n",
      "Files already downloaded and verified\n"
     ]
    }
   ],
   "source": [
    "# transform PILImage images from dataset to tensors\n",
    "transform = transforms.Compose([transforms.ToTensor(),\n",
    "                               transforms.Normalize((0.5, 0.5, 0.5), (0.5, 0.5, 0.5))])\n",
    "\n",
    "batch_size = 4\n",
    "\n",
    "trainset = torchvision.datasets.CIFAR10(root='./data', train=True,\n",
    "                                       download=True, transform=transform)\n",
    "\n",
    "trainloader = torch.utils.data.DataLoader(trainset, batch_size=batch_size, \n",
    "                                         shuffle=True, num_workers=2)\n",
    "\n",
    "testset = torchvision.datasets.CIFAR10(root='./data', train=False,\n",
    "                                       download=True, transform=transform)\n",
    "\n",
    "testloader = torch.utils.data.DataLoader(testset, batch_size=batch_size, \n",
    "                                         shuffle=False, num_workers=2)\n",
    "\n",
    "classes = ('plane', 'car', 'bird', 'cat',\n",
    "           'deer', 'dog', 'frog', 'horse', 'ship', 'truck')"
   ]
  },
  {
   "cell_type": "code",
   "execution_count": 3,
   "id": "585491be",
   "metadata": {},
   "outputs": [
    {
     "data": {
      "image/png": "[encoded data removed]",
      "text/plain": [
       "<Figure size 640x480 with 1 Axes>"
      ]
     },
     "metadata": {},
     "output_type": "display_data"
    },
    {
     "name": "stdout",
     "output_type": "stream",
     "text": [
      "frog  dog   cat   car  \n"
     ]
    }
   ],
   "source": [
    "# Just showing image for fun\n",
    "\n",
    "def imshow(img):\n",
    "    img = img / 2 + 0.5 # unnormalize\n",
    "    npimg = img.numpy()\n",
    "    plt.imshow(np.transpose(npimg, (1, 2, 0)))\n",
    "    plt.show()\n",
    "    \n",
    "# Get some random training image\n",
    "dataiter = iter(trainloader)\n",
    "images, labels = next(dataiter)\n",
    "\n",
    "# show images\n",
    "imshow(torchvision.utils.make_grid(images))\n",
    "\n",
    "# print labels\n",
    "print(' '.join(f'{classes[labels[j]]:5s}' for j in range(batch_size)))"
   ]
  },
  {
   "cell_type": "code",
   "execution_count": 4,
   "id": "03ee18bb",
   "metadata": {},
   "outputs": [],
   "source": [
    "# Define a Neural Network (Modified to qnn by converting convolutional layers and fully connected to qnn ones)\n",
    "\n",
    "class LowPrecisionNet(nn.Module):\n",
    "    \n",
    "    def __init__(self):\n",
    "        super(LowPrecisionNet, self).__init__()\n",
    "        \n",
    "        # Input quantization layer\n",
    "        self.quant_inp = qnn.QuantIdentity(bit_width=4, return_quant_tensor=True)\n",
    "        \n",
    "        # 2 convolution layers and Quantized ReLU between each of them\n",
    "        # 3 input image channel, 6 output channels, 5x5 convolution kernel\n",
    "        self.conv1 = qnn.QuantConv2d(3, 6, 5, weight_bit_width=3, bias_quant=BiasQuant, return_quant_tensor=True)\n",
    "        self.relu1 = qnn.QuantReLU(bit_width=4, return_quant_tensor=True)\n",
    "        self.conv2 = qnn.QuantConv2d(6, 16, 5, weight_bit_width=3, bias_quant=BiasQuant, return_quant_tensor=True)\n",
    "        self.relu2 = qnn.QuantReLU(bit_width=4, return_quant_tensor=True)\n",
    "        \n",
    "        # 3 fully connected layers\n",
    "        # an affine operation: y = Wx + b\n",
    "        self.fc1 = qnn.QuantLinear(16 * 5 * 5, 120, bias=True, weight_bit_width=3, bias_quant=BiasQuant, return_quant_tensor=True)\n",
    "        self.relu3 = qnn.QuantReLU(bit_width=4, return_quant_tensor=True)\n",
    "        self.fc2 = qnn.QuantLinear(120, 84, bias=True, weight_bit_width=3, bias_quant=BiasQuant, return_quant_tensor=True)\n",
    "        self.relu4 = qnn.QuantReLU(bit_width=4, return_quant_tensor=True)\n",
    "        self.fc3 = qnn.QuantLinear(84, 10, bias=False, weight_bit_width=3)\n",
    "        \n",
    "        \n",
    "    def forward(self, x):\n",
    "        x = self.quant_inp(x)\n",
    "        x = self.relu1(self.conv1(x))\n",
    "        x = F.max_pool2d(x, 2)\n",
    "        x = self.relu2(self.conv2(x))\n",
    "        x = F.max_pool2d(x, 2)\n",
    "        x = x.reshape(x.shape[0], -1) # Flatten\n",
    "        x = self.relu3(self.fc1(x))\n",
    "        x = self.relu4(self.fc2(x))\n",
    "        x = self.fc3(x)\n",
    "        \n",
    "        return x\n",
    "    \n",
    "net = LowPrecisionNet()    "
   ]
  },
  {
   "cell_type": "code",
   "execution_count": 5,
   "id": "9f53521c",
   "metadata": {},
   "outputs": [],
   "source": [
    "# Define a loss function (Cross-Entropy loss) and an optimizer (Stochastic Gradient Descent with momentum)\n",
    "criterion = nn.CrossEntropyLoss()\n",
    "optimizer = optim.SGD(net.parameters(), lr=0.001, momentum=0.9)"
   ]
  },
  {
   "cell_type": "code",
   "execution_count": 6,
   "id": "11a7ae7a",
   "metadata": {},
   "outputs": [
    {
     "name": "stdout",
     "output_type": "stream",
     "text": [
      "[1,  2000] loss: 2.266\n",
      "[1,  4000] loss: 2.005\n",
      "[1,  6000] loss: 1.838\n",
      "[1,  8000] loss: 1.707\n",
      "[1, 10000] loss: 1.627\n",
      "[1, 12000] loss: 1.559\n",
      "[2,  2000] loss: 1.500\n",
      "[2,  4000] loss: 1.480\n",
      "[2,  6000] loss: 1.463\n",
      "[2,  8000] loss: 1.434\n",
      "[2, 10000] loss: 1.427\n",
      "[2, 12000] loss: 1.386\n",
      "[3,  2000] loss: 1.377\n",
      "[3,  4000] loss: 1.359\n",
      "[3,  6000] loss: 1.353\n",
      "[3,  8000] loss: 1.341\n",
      "[3, 10000] loss: 1.336\n",
      "[3, 12000] loss: 1.337\n",
      "[4,  2000] loss: 1.309\n",
      "[4,  4000] loss: 1.298\n",
      "[4,  6000] loss: 1.284\n",
      "[4,  8000] loss: 1.293\n",
      "[4, 10000] loss: 1.279\n",
      "[4, 12000] loss: 1.290\n",
      "[5,  2000] loss: 1.245\n",
      "[5,  4000] loss: 1.253\n",
      "[5,  6000] loss: 1.240\n",
      "[5,  8000] loss: 1.239\n",
      "[5, 10000] loss: 1.271\n",
      "[5, 12000] loss: 1.246\n",
      "[6,  2000] loss: 1.201\n",
      "[6,  4000] loss: 1.234\n",
      "[6,  6000] loss: 1.209\n",
      "[6,  8000] loss: 1.218\n",
      "[6, 10000] loss: 1.220\n",
      "[6, 12000] loss: 1.208\n",
      "[7,  2000] loss: 1.161\n",
      "[7,  4000] loss: 1.163\n",
      "[7,  6000] loss: 1.190\n",
      "[7,  8000] loss: 1.211\n",
      "[7, 10000] loss: 1.183\n",
      "[7, 12000] loss: 1.191\n",
      "[8,  2000] loss: 1.155\n",
      "[8,  4000] loss: 1.149\n",
      "[8,  6000] loss: 1.158\n",
      "[8,  8000] loss: 1.157\n",
      "[8, 10000] loss: 1.154\n",
      "[8, 12000] loss: 1.177\n",
      "[9,  2000] loss: 1.109\n",
      "[9,  4000] loss: 1.141\n",
      "[9,  6000] loss: 1.126\n",
      "[9,  8000] loss: 1.136\n",
      "[9, 10000] loss: 1.154\n",
      "[9, 12000] loss: 1.137\n",
      "[10,  2000] loss: 1.109\n",
      "[10,  4000] loss: 1.114\n",
      "[10,  6000] loss: 1.121\n",
      "[10,  8000] loss: 1.105\n",
      "[10, 10000] loss: 1.129\n",
      "[10, 12000] loss: 1.123\n",
      "[11,  2000] loss: 1.081\n",
      "[11,  4000] loss: 1.074\n",
      "[11,  6000] loss: 1.095\n",
      "[11,  8000] loss: 1.108\n",
      "[11, 10000] loss: 1.085\n",
      "[11, 12000] loss: 1.111\n",
      "[12,  2000] loss: 1.064\n",
      "[12,  4000] loss: 1.064\n",
      "[12,  6000] loss: 1.074\n",
      "[12,  8000] loss: 1.058\n",
      "[12, 10000] loss: 1.104\n",
      "[12, 12000] loss: 1.096\n",
      "[13,  2000] loss: 1.018\n",
      "[13,  4000] loss: 1.064\n",
      "[13,  6000] loss: 1.045\n",
      "[13,  8000] loss: 1.083\n",
      "[13, 10000] loss: 1.094\n",
      "[13, 12000] loss: 1.078\n",
      "[14,  2000] loss: 1.029\n",
      "[14,  4000] loss: 1.036\n",
      "[14,  6000] loss: 1.054\n",
      "[14,  8000] loss: 1.050\n",
      "[14, 10000] loss: 1.057\n",
      "[14, 12000] loss: 1.084\n",
      "[15,  2000] loss: 1.004\n",
      "[15,  4000] loss: 1.034\n",
      "[15,  6000] loss: 1.050\n",
      "[15,  8000] loss: 1.048\n",
      "[15, 10000] loss: 1.034\n",
      "[15, 12000] loss: 1.036\n",
      "[16,  2000] loss: 0.995\n",
      "[16,  4000] loss: 1.028\n",
      "[16,  6000] loss: 1.034\n",
      "[16,  8000] loss: 1.027\n",
      "[16, 10000] loss: 1.022\n",
      "[16, 12000] loss: 1.057\n",
      "[17,  2000] loss: 1.000\n",
      "[17,  4000] loss: 0.968\n",
      "[17,  6000] loss: 1.029\n",
      "[17,  8000] loss: 1.040\n",
      "[17, 10000] loss: 1.041\n",
      "[17, 12000] loss: 1.037\n",
      "[18,  2000] loss: 0.995\n",
      "[18,  4000] loss: 0.992\n",
      "[18,  6000] loss: 1.029\n",
      "[18,  8000] loss: 0.979\n",
      "[18, 10000] loss: 1.008\n",
      "[18, 12000] loss: 1.033\n",
      "[19,  2000] loss: 0.971\n",
      "[19,  4000] loss: 0.970\n",
      "[19,  6000] loss: 0.996\n",
      "[19,  8000] loss: 0.990\n",
      "[19, 10000] loss: 1.022\n",
      "[19, 12000] loss: 0.995\n",
      "[20,  2000] loss: 0.946\n",
      "[20,  4000] loss: 0.972\n",
      "[20,  6000] loss: 1.011\n",
      "[20,  8000] loss: 0.977\n",
      "[20, 10000] loss: 1.022\n",
      "[20, 12000] loss: 1.007\n",
      "[21,  2000] loss: 0.929\n",
      "[21,  4000] loss: 0.982\n",
      "[21,  6000] loss: 0.988\n",
      "[21,  8000] loss: 0.992\n",
      "[21, 10000] loss: 0.998\n",
      "[21, 12000] loss: 1.015\n",
      "[22,  2000] loss: 0.930\n",
      "[22,  4000] loss: 0.964\n",
      "[22,  6000] loss: 0.995\n",
      "[22,  8000] loss: 0.979\n",
      "[22, 10000] loss: 0.984\n",
      "[22, 12000] loss: 0.984\n",
      "[23,  2000] loss: 0.949\n",
      "[23,  4000] loss: 0.957\n",
      "[23,  6000] loss: 0.966\n",
      "[23,  8000] loss: 0.975\n",
      "[23, 10000] loss: 0.964\n",
      "[23, 12000] loss: 0.995\n",
      "[24,  2000] loss: 0.925\n",
      "[24,  4000] loss: 0.958\n",
      "[24,  6000] loss: 0.954\n",
      "[24,  8000] loss: 0.992\n",
      "[24, 10000] loss: 0.993\n",
      "[24, 12000] loss: 0.988\n",
      "[25,  2000] loss: 0.925\n",
      "[25,  4000] loss: 0.926\n",
      "[25,  6000] loss: 0.934\n",
      "[25,  8000] loss: 0.978\n",
      "[25, 10000] loss: 0.990\n",
      "[25, 12000] loss: 0.986\n",
      "[26,  2000] loss: 0.929\n",
      "[26,  4000] loss: 0.910\n",
      "[26,  6000] loss: 0.951\n",
      "[26,  8000] loss: 0.981\n",
      "[26, 10000] loss: 0.966\n",
      "[26, 12000] loss: 0.982\n",
      "[27,  2000] loss: 0.914\n",
      "[27,  4000] loss: 0.935\n",
      "[27,  6000] loss: 0.941\n",
      "[27,  8000] loss: 0.961\n",
      "[27, 10000] loss: 0.936\n",
      "[27, 12000] loss: 0.984\n",
      "[28,  2000] loss: 0.926\n",
      "[28,  4000] loss: 0.938\n",
      "[28,  6000] loss: 0.913\n",
      "[28,  8000] loss: 0.952\n",
      "[28, 10000] loss: 0.972\n",
      "[28, 12000] loss: 0.969\n",
      "[29,  2000] loss: 0.892\n",
      "[29,  4000] loss: 0.955\n",
      "[29,  6000] loss: 0.949\n",
      "[29,  8000] loss: 0.957\n",
      "[29, 10000] loss: 0.952\n",
      "[29, 12000] loss: 0.945\n",
      "[30,  2000] loss: 0.920\n",
      "[30,  4000] loss: 0.936\n",
      "[30,  6000] loss: 0.927\n",
      "[30,  8000] loss: 0.958\n",
      "[30, 10000] loss: 0.946\n",
      "[30, 12000] loss: 0.958\n",
      "Finished Training\n"
     ]
    }
   ],
   "source": [
    "for epoch in range(30):\n",
    "    \n",
    "    running_loss = 0.0\n",
    "    \n",
    "    for i, data in enumerate(trainloader, 0): # enumerate used to put a counter with every data item\n",
    "        inputs, labels = data\n",
    "    \n",
    "        optimizer.zero_grad()\n",
    "    \n",
    "        # forward + backward + optimize\n",
    "        outputs = net(inputs)\n",
    "        loss = criterion(outputs, labels)\n",
    "        loss.backward()\n",
    "        optimizer.step()\n",
    "    \n",
    "        # print stats\n",
    "        running_loss += loss.item()\n",
    "        if i % 2000 == 1999:\n",
    "            print(f'[{epoch + 1}, {i + 1:5d}] loss: {running_loss / 2000:.3f}')\n",
    "            running_loss = 0.0\n",
    "\n",
    "print('Finished Training')"
   ]
  },
  {
   "cell_type": "code",
   "execution_count": 8,
   "id": "e11762ab",
   "metadata": {},
   "outputs": [
    {
     "ename": "TypeError",
     "evalue": "export() got an unexpected keyword argument 'enable_onnx_checker'",
     "output_type": "error",
     "traceback": [
      "\u001b[0;31m---------------------------------------------------------------------------\u001b[0m",
      "\u001b[0;31mTypeError\u001b[0m                                 Traceback (most recent call last)",
      "Cell \u001b[0;32mIn [8], line 5\u001b[0m\n\u001b[1;32m      1\u001b[0m \u001b[38;5;66;03m# Save the trained model using pytorch (may not work directly)\u001b[39;00m\n\u001b[1;32m      2\u001b[0m \u001b[38;5;66;03m#torch.save(net.state_dict(), './cifar_net.pth')\u001b[39;00m\n\u001b[1;32m      3\u001b[0m \n\u001b[1;32m      4\u001b[0m \u001b[38;5;66;03m# Save using onnx format (Need to fix the error)\u001b[39;00m\n\u001b[0;32m----> 5\u001b[0m \u001b[43mFINNManager\u001b[49m\u001b[38;5;241;43m.\u001b[39;49m\u001b[43mexport\u001b[49m\u001b[43m(\u001b[49m\u001b[43mnet\u001b[49m\u001b[43m,\u001b[49m\u001b[43m \u001b[49m\u001b[43minput_shape\u001b[49m\u001b[38;5;241;43m=\u001b[39;49m\u001b[43m(\u001b[49m\u001b[38;5;241;43m1\u001b[39;49m\u001b[43m,\u001b[49m\u001b[43m \u001b[49m\u001b[38;5;241;43m3\u001b[39;49m\u001b[43m,\u001b[49m\u001b[43m \u001b[49m\u001b[38;5;241;43m32\u001b[39;49m\u001b[43m,\u001b[49m\u001b[43m \u001b[49m\u001b[38;5;241;43m32\u001b[39;49m\u001b[43m)\u001b[49m\u001b[43m,\u001b[49m\u001b[43m \u001b[49m\u001b[43mexport_path\u001b[49m\u001b[38;5;241;43m=\u001b[39;49m\u001b[38;5;124;43m'\u001b[39;49m\u001b[38;5;124;43mfinn_lenet.onnx\u001b[39;49m\u001b[38;5;124;43m'\u001b[39;49m\u001b[43m)\u001b[49m\n",
      "File \u001b[0;32m~/.local/lib/python3.10/site-packages/brevitas/export/onnx/finn/manager.py:125\u001b[0m, in \u001b[0;36mFINNManager.export\u001b[0;34m(cls, module, input_shape, export_path, input_t, **kwargs)\u001b[0m\n\u001b[1;32m    123\u001b[0m     module \u001b[38;5;241m=\u001b[39m Sequential(preprocessing_module, module)\n\u001b[1;32m    124\u001b[0m     module\u001b[38;5;241m.\u001b[39mtrain(training_state)\n\u001b[0;32m--> 125\u001b[0m onnx_model \u001b[38;5;241m=\u001b[39m \u001b[38;5;28;43mcls\u001b[39;49m\u001b[38;5;241;43m.\u001b[39;49m\u001b[43mexport_onnx\u001b[49m\u001b[43m(\u001b[49m\n\u001b[1;32m    126\u001b[0m \u001b[43m    \u001b[49m\u001b[43mmodule\u001b[49m\u001b[43m,\u001b[49m\u001b[43m \u001b[49m\u001b[43minput_shape\u001b[49m\u001b[43m,\u001b[49m\u001b[43m \u001b[49m\u001b[43mexport_path\u001b[49m\u001b[43m,\u001b[49m\u001b[43m \u001b[49m\u001b[43minput_t\u001b[49m\u001b[43m,\u001b[49m\u001b[43m \u001b[49m\u001b[38;5;241;43m*\u001b[39;49m\u001b[38;5;241;43m*\u001b[39;49m\u001b[43mkwargs\u001b[49m\u001b[43m)\u001b[49m\n\u001b[1;32m    127\u001b[0m \u001b[38;5;28;01mif\u001b[39;00m input_t \u001b[38;5;129;01mis\u001b[39;00m \u001b[38;5;129;01mnot\u001b[39;00m \u001b[38;5;28;01mNone\u001b[39;00m \u001b[38;5;129;01mand\u001b[39;00m \u001b[38;5;28misinstance\u001b[39m(input_t, QuantTensor):\n\u001b[1;32m    128\u001b[0m     bit_width \u001b[38;5;241m=\u001b[39m input_t\u001b[38;5;241m.\u001b[39mbit_width\n",
      "File \u001b[0;32m~/.local/lib/python3.10/site-packages/brevitas/export/onnx/manager.py:111\u001b[0m, in \u001b[0;36mONNXBaseManager.export_onnx\u001b[0;34m(cls, module, input_shape, export_path, input_t, disable_warnings, **kwargs)\u001b[0m\n\u001b[1;32m    109\u001b[0m         model_bytes \u001b[38;5;241m=\u001b[39m BytesIO()\n\u001b[1;32m    110\u001b[0m         export_target \u001b[38;5;241m=\u001b[39m model_bytes\n\u001b[0;32m--> 111\u001b[0m     \u001b[43mtorch\u001b[49m\u001b[38;5;241;43m.\u001b[39;49m\u001b[43monnx\u001b[49m\u001b[38;5;241;43m.\u001b[39;49m\u001b[43mexport\u001b[49m\u001b[43m(\u001b[49m\u001b[43mmodule\u001b[49m\u001b[43m,\u001b[49m\u001b[43m \u001b[49m\u001b[43minput_t\u001b[49m\u001b[43m,\u001b[49m\u001b[43m \u001b[49m\u001b[43mexport_target\u001b[49m\u001b[43m,\u001b[49m\u001b[43m \u001b[49m\u001b[38;5;241;43m*\u001b[39;49m\u001b[38;5;241;43m*\u001b[39;49m\u001b[43mkwargs\u001b[49m\u001b[43m)\u001b[49m\n\u001b[1;32m    113\u001b[0m \u001b[38;5;66;03m# restore the model to previous properties\u001b[39;00m\n\u001b[1;32m    114\u001b[0m module\u001b[38;5;241m.\u001b[39mapply(\u001b[38;5;28;01mlambda\u001b[39;00m m: _restore_inp_caching_mode(m))\n",
      "\u001b[0;31mTypeError\u001b[0m: export() got an unexpected keyword argument 'enable_onnx_checker'"
     ]
    }
   ],
   "source": [
    "# Save the trained model using pytorch (may not work directly)\n",
    "#torch.save(net.state_dict(), './cifar_net.pth')\n",
    "\n",
    "# Save using onnx format (Need to fix the error)\n",
    "FINNManager.export(net, input_shape=(1, 3, 32, 32), export_path='finn_lenet.onnx')"
   ]
  },
  {
   "cell_type": "code",
   "execution_count": 21,
   "id": "63671719",
   "metadata": {},
   "outputs": [
    {
     "data": {
      "image/png": "[encoded data removed]",
      "text/plain": [
       "<Figure size 640x480 with 1 Axes>"
      ]
     },
     "metadata": {},
     "output_type": "display_data"
    },
    {
     "name": "stdout",
     "output_type": "stream",
     "text": [
      "GroundTruth:  cat   ship  ship  plane\n"
     ]
    }
   ],
   "source": [
    "# Displaying an image from the test set\n",
    "dataiter = iter(testloader)\n",
    "images, labels = next(dataiter)\n",
    "\n",
    "imshow(torchvision.utils.make_grid(images))\n",
    "print('GroundTruth: ', ' '.join(f'{classes[labels[j]]:5s}' for j in range(4)))"
   ]
  },
  {
   "cell_type": "code",
   "execution_count": 27,
   "id": "c8ea96ce",
   "metadata": {},
   "outputs": [
    {
     "ename": "IndexError",
     "evalue": "index 1 is out of bounds for dimension 0 with size 1",
     "output_type": "error",
     "traceback": [
      "\u001b[0;31m---------------------------------------------------------------------------\u001b[0m",
      "\u001b[0;31mIndexError\u001b[0m                                Traceback (most recent call last)",
      "Cell \u001b[0;32mIn [27], line 7\u001b[0m\n\u001b[1;32m      4\u001b[0m outputs \u001b[38;5;241m=\u001b[39m net(images)\n\u001b[1;32m      5\u001b[0m _, predicted \u001b[38;5;241m=\u001b[39m torch\u001b[38;5;241m.\u001b[39mmax(outputs, \u001b[38;5;241m1\u001b[39m) \u001b[38;5;66;03m# _ is to ignore first thing and 1 is given in max() for the 1st field (0 indexed)\u001b[39;00m\n\u001b[0;32m----> 7\u001b[0m \u001b[38;5;28mprint\u001b[39m(\u001b[38;5;124m'\u001b[39m\u001b[38;5;124mPredicted: \u001b[39m\u001b[38;5;124m'\u001b[39m, \u001b[38;5;124;43m'\u001b[39;49m\u001b[38;5;124;43m \u001b[39;49m\u001b[38;5;124;43m'\u001b[39;49m\u001b[38;5;241;43m.\u001b[39;49m\u001b[43mjoin\u001b[49m\u001b[43m(\u001b[49m\u001b[38;5;124;43mf\u001b[39;49m\u001b[38;5;124;43m'\u001b[39;49m\u001b[38;5;132;43;01m{\u001b[39;49;00m\u001b[43mclasses\u001b[49m\u001b[43m[\u001b[49m\u001b[43mpredicted\u001b[49m\u001b[43m[\u001b[49m\u001b[43mj\u001b[49m\u001b[43m]\u001b[49m\u001b[43m]\u001b[49m\u001b[38;5;132;43;01m:\u001b[39;49;00m\u001b[38;5;124;43m5s\u001b[39;49m\u001b[38;5;132;43;01m}\u001b[39;49;00m\u001b[38;5;124;43m'\u001b[39;49m\n\u001b[1;32m      8\u001b[0m \u001b[43m                              \u001b[49m\u001b[38;5;28;43;01mfor\u001b[39;49;00m\u001b[43m \u001b[49m\u001b[43mj\u001b[49m\u001b[43m \u001b[49m\u001b[38;5;129;43;01min\u001b[39;49;00m\u001b[43m \u001b[49m\u001b[38;5;28;43mrange\u001b[39;49m\u001b[43m(\u001b[49m\u001b[38;5;241;43m4\u001b[39;49m\u001b[43m)\u001b[49m\u001b[43m)\u001b[49m)\n",
      "Cell \u001b[0;32mIn [27], line 7\u001b[0m, in \u001b[0;36m<genexpr>\u001b[0;34m(.0)\u001b[0m\n\u001b[1;32m      4\u001b[0m outputs \u001b[38;5;241m=\u001b[39m net(images)\n\u001b[1;32m      5\u001b[0m _, predicted \u001b[38;5;241m=\u001b[39m torch\u001b[38;5;241m.\u001b[39mmax(outputs, \u001b[38;5;241m1\u001b[39m) \u001b[38;5;66;03m# _ is to ignore first thing and 1 is given in max() for the 1st field (0 indexed)\u001b[39;00m\n\u001b[0;32m----> 7\u001b[0m \u001b[38;5;28mprint\u001b[39m(\u001b[38;5;124m'\u001b[39m\u001b[38;5;124mPredicted: \u001b[39m\u001b[38;5;124m'\u001b[39m, \u001b[38;5;124m'\u001b[39m\u001b[38;5;124m \u001b[39m\u001b[38;5;124m'\u001b[39m\u001b[38;5;241m.\u001b[39mjoin(\u001b[38;5;124mf\u001b[39m\u001b[38;5;124m'\u001b[39m\u001b[38;5;132;01m{\u001b[39;00mclasses[\u001b[43mpredicted\u001b[49m\u001b[43m[\u001b[49m\u001b[43mj\u001b[49m\u001b[43m]\u001b[49m]\u001b[38;5;132;01m:\u001b[39;00m\u001b[38;5;124m5s\u001b[39m\u001b[38;5;132;01m}\u001b[39;00m\u001b[38;5;124m'\u001b[39m\n\u001b[1;32m      8\u001b[0m                               \u001b[38;5;28;01mfor\u001b[39;00m j \u001b[38;5;129;01min\u001b[39;00m \u001b[38;5;28mrange\u001b[39m(\u001b[38;5;241m4\u001b[39m)))\n",
      "\u001b[0;31mIndexError\u001b[0m: index 1 is out of bounds for dimension 0 with size 1"
     ]
    }
   ],
   "source": [
    "# Loading saved model not required here\n",
    "\n",
    "# Check the prediction of the model on the trianing set\n",
    "outputs = net(images)\n",
    "_, predicted = torch.max(outputs, 1) # _ is to ignore first thing and 1 is given in max() for the 1st field (0 indexed)\n",
    "\n",
    "print('Predicted: ', ' '.join(f'{classes[predicted[j]]:5s}'\n",
    "                              for j in range(4)))"
   ]
  },
  {
   "cell_type": "code",
   "execution_count": 30,
   "id": "ed49cb71",
   "metadata": {},
   "outputs": [
    {
     "name": "stdout",
     "output_type": "stream",
     "text": [
      "Accuracy of the network on the 10000 test images: 10 %\n"
     ]
    }
   ],
   "source": [
    "# Benchmarking the model over the whole dataset\n",
    "\n",
    "correct = 0\n",
    "total = 0\n",
    "\n",
    "# Not calculating gradients as we are not training\n",
    "with torch.no_grad():\n",
    "    for data in testloader:\n",
    "        images, labels = data\n",
    "        outputs = net(images)\n",
    "        _, predicted = torch.max(outputs.data, 1)\n",
    "        total += labels.size(0)\n",
    "        correct += (predicted == labels).sum().item()\n",
    "        \n",
    "print(f'Accuracy of the network on the 10000 test images: {100 * correct // total} %') "
   ]
  },
  {
   "cell_type": "code",
   "execution_count": 29,
   "id": "05e5d5ea",
   "metadata": {},
   "outputs": [
    {
     "name": "stdout",
     "output_type": "stream",
     "text": [
      "Accuracy for class: plane is 57.3 %\n",
      "Accuracy for class: car   is 1.7 %\n",
      "Accuracy for class: bird  is 27.5 %\n",
      "Accuracy for class: cat   is 0.0 %\n",
      "Accuracy for class: deer  is 0.0 %\n",
      "Accuracy for class: dog   is 0.0 %\n",
      "Accuracy for class: frog  is 4.8 %\n",
      "Accuracy for class: horse is 0.0 %\n",
      "Accuracy for class: ship  is 2.0 %\n",
      "Accuracy for class: truck is 0.0 %\n"
     ]
    }
   ],
   "source": [
    "# Calculating classwise accuracy\n",
    "\n",
    "correct_pred = {classname: 0 for classname in classes} # set each class to 0 in the dictionary\n",
    "total_pred = {classname: 0 for classname in classes}\n",
    "\n",
    "with torch.no_grad():\n",
    "    for data in testloader:\n",
    "        images, labels = data\n",
    "        outputs = net(images)\n",
    "        _, predictions = torch.max(outputs, 1)\n",
    "        # count the correct and total predictions\n",
    "        for label, prediction in zip(labels, predictions):\n",
    "            if label == prediction:\n",
    "                correct_pred[classes[label]] += 1\n",
    "            total_pred[classes[label]] += 1 \n",
    "            \n",
    "# print the accuracy for each class \n",
    "for classname, correct_count in correct_pred.items():\n",
    "    accuracy = 100 * float(correct_count) / total_pred[classname]\n",
    "    print(f'Accuracy for class: {classname:5s} is {accuracy:.1f} %')"
   ]
  },
  {
   "cell_type": "code",
   "execution_count": null,
   "id": "86aae6ee",
   "metadata": {},
   "outputs": [],
   "source": []
  }
 ],
 "metadata": {
  "kernelspec": {
   "display_name": "Python 3 (ipykernel)",
   "language": "python",
   "name": "python3"
  },
  "language_info": {
   "codemirror_mode": {
    "name": "ipython",
    "version": 3
   },
   "file_extension": ".py",
   "mimetype": "text/x-python",
   "name": "python",
   "nbconvert_exporter": "python",
   "pygments_lexer": "ipython3",
   "version": "3.10.6"
  }
 },
 "nbformat": 4,
 "nbformat_minor": 5
}
