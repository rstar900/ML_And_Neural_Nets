{
 "cells": [
  {
   "cell_type": "code",
   "execution_count": null,
   "id": "de06c5e3",
   "metadata": {},
   "outputs": [],
   "source": [
    "# Launch a Build: Only Estimate Reports \n",
    "# For Avnet Ultra96-v2 Board"
   ]
  },
  {
   "cell_type": "code",
   "execution_count": 1,
   "id": "9821767b",
   "metadata": {},
   "outputs": [],
   "source": [
    "import finn.builder.build_dataflow as build\n",
    "import finn.builder.build_dataflow_config as build_cfg\n",
    "import os\n",
    "import shutil\n",
    "\n",
    "model_file = \"finn_lenet_verification.onnx\"\n",
    "\n",
    "estimates_output_dir = \"output_estimates_only\"\n",
    "\n",
    "#Delete previous run results if exist\n",
    "if os.path.exists(estimates_output_dir):\n",
    "    shutil.rmtree(estimates_output_dir)\n",
    "    print(\"Previous run results deleted!\")\n",
    "\n",
    "\n",
    "cfg_estimates = build.DataflowBuildConfig(\n",
    "    output_dir          = estimates_output_dir,\n",
    "    mvau_wwidth_max     = 80,\n",
    "    target_fps          = 1000000,\n",
    "    synth_clk_period_ns = 10.0,\n",
    "    fpga_part           = \"xczu3eg-sbva484-1-i\",\n",
    "    steps               = build_cfg.estimate_only_dataflow_steps,\n",
    "    generate_outputs=[\n",
    "        build_cfg.DataflowOutputType.ESTIMATE_REPORTS,\n",
    "    ]\n",
    ")"
   ]
  },
  {
   "cell_type": "code",
   "execution_count": 2,
   "id": "7e352a83",
   "metadata": {},
   "outputs": [
    {
     "name": "stdout",
     "output_type": "stream",
     "text": [
      "Building dataflow accelerator from finn_lenet_verification.onnx\n",
      "Intermediate outputs will be generated in /home/rstar900/finn/my_builds\n",
      "Final outputs will be generated in output_estimates_only\n",
      "Build log is at output_estimates_only/build_dataflow.log\n",
      "Running step: step_qonnx_to_finn [1/8]\n",
      "Running step: step_tidy_up [2/8]\n",
      "Running step: step_streamline [3/8]\n",
      "Running step: step_convert_to_hls [4/8]\n",
      "Running step: step_create_dataflow_partition [5/8]\n",
      "Running step: step_target_fps_parallelization [6/8]\n",
      "Running step: step_apply_folding_config [7/8]\n",
      "Running step: step_generate_estimate_reports [8/8]\n",
      "Completed successfully\n",
      "CPU times: user 1.17 s, sys: 0 ns, total: 1.17 s\n",
      "Wall time: 1.18 s\n"
     ]
    },
    {
     "data": {
      "text/plain": [
       "0"
      ]
     },
     "execution_count": 2,
     "metadata": {},
     "output_type": "execute_result"
    }
   ],
   "source": [
    "%%time\n",
    "build.build_dataflow_cfg(model_file, cfg_estimates)"
   ]
  },
  {
   "cell_type": "code",
   "execution_count": 3,
   "id": "10bad157",
   "metadata": {},
   "outputs": [],
   "source": [
    "# We'll now examine the generated outputs from this build\n",
    "# If we look under the outputs directory, we'll find a subfolder with the generated estimate reports."
   ]
  },
  {
   "cell_type": "code",
   "execution_count": 4,
   "id": "517d7845",
   "metadata": {},
   "outputs": [
    {
     "name": "stdout",
     "output_type": "stream",
     "text": [
      "auto_folding_config.json  intermediate_models  time_per_step.json\r\n",
      "build_dataflow.log\t  report\r\n"
     ]
    }
   ],
   "source": [
    "! ls {estimates_output_dir}"
   ]
  },
  {
   "cell_type": "code",
   "execution_count": 5,
   "id": "58a85fc4",
   "metadata": {},
   "outputs": [
    {
     "name": "stdout",
     "output_type": "stream",
     "text": [
      "estimate_layer_config_alternatives.json  estimate_network_performance.json\r\n",
      "estimate_layer_cycles.json\t\t op_and_param_counts.json\r\n",
      "estimate_layer_resources.json\r\n"
     ]
    }
   ],
   "source": [
    "! ls {estimates_output_dir}/report"
   ]
  },
  {
   "cell_type": "code",
   "execution_count": 6,
   "id": "5ed22d90",
   "metadata": {},
   "outputs": [
    {
     "name": "stdout",
     "output_type": "stream",
     "text": [
      "{\r\n",
      "  \"critical_path_cycles\": 89317,\r\n",
      "  \"max_cycles\": 19760,\r\n",
      "  \"max_cycles_node_name\": \"ConvolutionInputGenerator_0\",\r\n",
      "  \"estimated_throughput_fps\": 5060.728744939272,\r\n",
      "  \"estimated_latency_ns\": 893170.0\r\n",
      "}"
     ]
    }
   ],
   "source": [
    "#  Let's examine the contents of the estimate_network_performance.json for starters. \n",
    "# Here, we can see the analytical estimates for the performance and latency\n",
    "! cat {estimates_output_dir}/report/estimate_network_performance.json"
   ]
  },
  {
   "cell_type": "code",
   "execution_count": 7,
   "id": "da524668",
   "metadata": {},
   "outputs": [
    {
     "data": {
      "text/plain": [
       "{'ConvolutionInputGenerator_0': {'BRAM_18K': 0,\n",
       "  'BRAM_efficiency': 1,\n",
       "  'LUT': 372,\n",
       "  'URAM': 0,\n",
       "  'URAM_efficiency': 1,\n",
       "  'DSP': 0},\n",
       " 'MatrixVectorActivation_0': {'BRAM_18K': 3,\n",
       "  'BRAM_efficiency': 0.0244140625,\n",
       "  'LUT': 1732,\n",
       "  'URAM': 0,\n",
       "  'URAM_efficiency': 1,\n",
       "  'DSP': 0},\n",
       " 'StreamingMaxPool_Batch_0': {'BRAM_18K': 0,\n",
       "  'BRAM_efficiency': 1,\n",
       "  'LUT': 0,\n",
       "  'URAM': 0,\n",
       "  'URAM_efficiency': 1,\n",
       "  'DSP': 0},\n",
       " 'ConvolutionInputGenerator_1': {'BRAM_18K': 0,\n",
       "  'BRAM_efficiency': 1,\n",
       "  'LUT': 348,\n",
       "  'URAM': 0,\n",
       "  'URAM_efficiency': 1,\n",
       "  'DSP': 0},\n",
       " 'MatrixVectorActivation_1': {'BRAM_18K': 2,\n",
       "  'BRAM_efficiency': 0.1953125,\n",
       "  'LUT': 1381,\n",
       "  'URAM': 0,\n",
       "  'URAM_efficiency': 1,\n",
       "  'DSP': 0},\n",
       " 'StreamingMaxPool_Batch_1': {'BRAM_18K': 0,\n",
       "  'BRAM_efficiency': 1,\n",
       "  'LUT': 0,\n",
       "  'URAM': 0,\n",
       "  'URAM_efficiency': 1,\n",
       "  'DSP': 0},\n",
       " 'MatrixVectorActivation_2': {'BRAM_18K': 12,\n",
       "  'BRAM_efficiency': 0.6510416666666666,\n",
       "  'LUT': 1255,\n",
       "  'URAM': 0,\n",
       "  'URAM_efficiency': 1,\n",
       "  'DSP': 0},\n",
       " 'MatrixVectorActivation_3': {'BRAM_18K': 3,\n",
       "  'BRAM_efficiency': 0.546875,\n",
       "  'LUT': 1039,\n",
       "  'URAM': 0,\n",
       "  'URAM_efficiency': 1,\n",
       "  'DSP': 0},\n",
       " 'MatrixVectorActivation_4': {'BRAM_18K': 1,\n",
       "  'BRAM_efficiency': 0.13671875,\n",
       "  'LUT': 346,\n",
       "  'URAM': 0,\n",
       "  'URAM_efficiency': 1,\n",
       "  'DSP': 0},\n",
       " 'total': {'BRAM_18K': 21.0, 'LUT': 6473.0, 'URAM': 0.0, 'DSP': 0.0}}"
      ]
     },
     "execution_count": 7,
     "metadata": {},
     "output_type": "execute_result"
    }
   ],
   "source": [
    "# We can see the layer-by-layer resource estimates in the estimate_layer_resources.json report \n",
    "# We can see if the layers will fit our FPGA using this report, if too high, consider lowering target_fps\n",
    "import json\n",
    "def read_json_dict(filename):\n",
    "    with open(filename, \"r\") as f:\n",
    "        ret = json.load(f)\n",
    "    return ret\n",
    "\n",
    "read_json_dict(estimates_output_dir + \"/report/estimate_layer_resources.json\")"
   ]
  },
  {
   "cell_type": "code",
   "execution_count": 8,
   "id": "2741d849",
   "metadata": {},
   "outputs": [
    {
     "data": {
      "text/plain": [
       "{'ConvolutionInputGenerator_0': 19760,\n",
       " 'MatrixVectorActivation_0': 14112,\n",
       " 'StreamingMaxPool_Batch_0': 980,\n",
       " 'ConvolutionInputGenerator_1': 15420,\n",
       " 'MatrixVectorActivation_1': 16000,\n",
       " 'StreamingMaxPool_Batch_1': 125,\n",
       " 'MatrixVectorActivation_2': 12000,\n",
       " 'MatrixVectorActivation_3': 10080,\n",
       " 'MatrixVectorActivation_4': 840}"
      ]
     },
     "execution_count": 8,
     "metadata": {},
     "output_type": "execute_result"
    }
   ],
   "source": [
    "# Have a look at estimate_layer_cycles.json\n",
    "read_json_dict(estimates_output_dir + \"/report/estimate_layer_cycles.json\")"
   ]
  },
  {
   "cell_type": "code",
   "execution_count": 9,
   "id": "ca6014fb",
   "metadata": {},
   "outputs": [],
   "source": [
    "# Launch a Build: Stitched IP, out-of-context synth and rtlsim Performance"
   ]
  },
  {
   "cell_type": "code",
   "execution_count": 23,
   "id": "5b785e43",
   "metadata": {},
   "outputs": [
    {
     "name": "stdout",
     "output_type": "stream",
     "text": [
      "Previous run results deleted!\n"
     ]
    }
   ],
   "source": [
    "import finn.builder.build_dataflow as build\n",
    "import finn.builder.build_dataflow_config as build_cfg\n",
    "import os\n",
    "import shutil\n",
    "\n",
    "model_file = \"finn_lenet_verification.onnx\"\n",
    "\n",
    "rtlsim_output_dir = \"output_ipstitch_ooc_rtlsim\"\n",
    "\n",
    "#Delete previous run results if exist\n",
    "if os.path.exists(rtlsim_output_dir):\n",
    "    shutil.rmtree(rtlsim_output_dir)\n",
    "    print(\"Previous run results deleted!\")\n",
    "\n",
    "cfg_stitched_ip = build.DataflowBuildConfig(\n",
    "    output_dir          = rtlsim_output_dir,\n",
    "    mvau_wwidth_max     = 80,\n",
    "    target_fps          = 1000000,\n",
    "    synth_clk_period_ns = 10.0,\n",
    "    fpga_part           = \"xczu3eg-sbva484-1-i\",\n",
    "    generate_outputs=[\n",
    "        build_cfg.DataflowOutputType.STITCHED_IP,\n",
    "        build_cfg.DataflowOutputType.RTLSIM_PERFORMANCE,\n",
    "        build_cfg.DataflowOutputType.OOC_SYNTH,\n",
    "    ]\n",
    ")"
   ]
  },
  {
   "cell_type": "code",
   "execution_count": 24,
   "id": "4ee1366f",
   "metadata": {
    "scrolled": true
   },
   "outputs": [
    {
     "name": "stdout",
     "output_type": "stream",
     "text": [
      "Building dataflow accelerator from finn_lenet_verification.onnx\n",
      "Intermediate outputs will be generated in /home/rstar900/finn/my_builds\n",
      "Final outputs will be generated in output_ipstitch_ooc_rtlsim\n",
      "Build log is at output_ipstitch_ooc_rtlsim/build_dataflow.log\n",
      "Running step: step_qonnx_to_finn [1/17]\n",
      "Running step: step_tidy_up [2/17]\n",
      "Running step: step_streamline [3/17]\n"
     ]
    },
    {
     "name": "stderr",
     "output_type": "stream",
     "text": [
      "Traceback (most recent call last):\n",
      "  File \"/home/rstar900/finn/src/finn/builder/build_dataflow.py\", line 166, in build_dataflow_cfg\n",
      "    model = transform_step(model, cfg)\n",
      "  File \"/home/rstar900/finn/src/finn/builder/build_dataflow_steps.py\", line 426, in step_hls_codegen\n",
      "    model = model.transform(\n",
      "  File \"/home/rstar900/finn/deps/qonnx/src/qonnx/core/modelwrapper.py\", line 140, in transform\n",
      "    (transformed_model, model_was_changed) = transformation.apply(transformed_model)\n",
      "  File \"/home/rstar900/finn/src/finn/transformation/fpgadataflow/prepare_ip.py\", line 88, in apply\n",
      "    _codegen_single_node(node, model, self.fpgapart, self.clk)\n",
      "  File \"/home/rstar900/finn/src/finn/transformation/fpgadataflow/prepare_ip.py\", line 55, in _codegen_single_node\n",
      "    inst.code_generation_ipgen(model, fpgapart, clk)\n",
      "  File \"/home/rstar900/finn/src/finn/custom_op/fpgadataflow/hlscustomop.py\", line 271, in code_generation_ipgen\n",
      "    self.generate_params(model, path)\n",
      "  File \"/home/rstar900/finn/src/finn/custom_op/fpgadataflow/matrixvectoractivation.py\", line 874, in generate_params\n",
      "    thresholds_hls_code = numpy_to_hls_code(\n",
      "  File \"/home/rstar900/finn/src/finn/util/data_packing.py\", line 279, in numpy_to_hls_code\n",
      "    np.set_printoptions(**orig_printops)\n",
      "  File \"<__array_function__ internals>\", line 200, in array2string\n",
      "  File \"/opt/conda/lib/python3.8/site-packages/numpy/core/arrayprint.py\", line 736, in array2string\n",
      "    return _array2string(a, options, separator, prefix)\n",
      "  File \"/opt/conda/lib/python3.8/site-packages/numpy/core/arrayprint.py\", line 513, in wrapper\n",
      "    return f(self, *args, **kwargs)\n",
      "  File \"/opt/conda/lib/python3.8/site-packages/numpy/core/arrayprint.py\", line 546, in _array2string\n",
      "    lst = _formatArray(a, format_function, options['linewidth'],\n",
      "  File \"/opt/conda/lib/python3.8/site-packages/numpy/core/arrayprint.py\", line 889, in _formatArray\n",
      "    return recurser(index=(),\n",
      "  File \"/opt/conda/lib/python3.8/site-packages/numpy/core/arrayprint.py\", line 880, in recurser\n",
      "    nested = recurser(index + (-1,), next_hanging_indent, next_width)\n",
      "  File \"/opt/conda/lib/python3.8/site-packages/numpy/core/arrayprint.py\", line 880, in recurser\n",
      "    nested = recurser(index + (-1,), next_hanging_indent, next_width)\n",
      "  File \"/opt/conda/lib/python3.8/site-packages/numpy/core/arrayprint.py\", line 876, in recurser\n",
      "    nested = recurser(index + (-i,), next_hanging_indent,\n",
      "  File \"/opt/conda/lib/python3.8/site-packages/numpy/core/arrayprint.py\", line 845, in recurser\n",
      "    word = recurser(index + (-i,), next_hanging_indent, next_width)\n",
      "  File \"/opt/conda/lib/python3.8/site-packages/numpy/core/arrayprint.py\", line 799, in recurser\n",
      "    return format_function(a[index])\n",
      "  File \"/home/rstar900/finn/src/finn/util/data_packing.py\", line 269, in elem2str\n",
      "    return '%s(\"%s\", 16)' % (hls_dtype, x)\n",
      "  File \"/opt/conda/lib/python3.8/site-packages/numpy/__init__.py\", line 284, in __getattr__\n",
      "    raise AttributeError(\"module {!r} has no attribute \"\n",
      "AttributeError: module 'numpy' has no attribute 'str'\n"
     ]
    },
    {
     "name": "stdout",
     "output_type": "stream",
     "text": [
      "Running step: step_convert_to_hls [4/17]\n",
      "Running step: step_create_dataflow_partition [5/17]\n",
      "Running step: step_target_fps_parallelization [6/17]\n",
      "Running step: step_apply_folding_config [7/17]\n",
      "Running step: step_generate_estimate_reports [8/17]\n",
      "Running step: step_hls_codegen [9/17]\n",
      "> \u001b[0;32m/opt/conda/lib/python3.8/site-packages/numpy/__init__.py\u001b[0m(284)\u001b[0;36m__getattr__\u001b[0;34m()\u001b[0m\n",
      "\u001b[0;32m    282 \u001b[0;31m            \u001b[0;32mreturn\u001b[0m \u001b[0mTester\u001b[0m\u001b[0;34m\u001b[0m\u001b[0;34m\u001b[0m\u001b[0m\n",
      "\u001b[0m\u001b[0;32m    283 \u001b[0;31m\u001b[0;34m\u001b[0m\u001b[0m\n",
      "\u001b[0m\u001b[0;32m--> 284 \u001b[0;31m        raise AttributeError(\"module {!r} has no attribute \"\n",
      "\u001b[0m\u001b[0;32m    285 \u001b[0;31m                             \"{!r}\".format(__name__, attr))\n",
      "\u001b[0m\u001b[0;32m    286 \u001b[0;31m\u001b[0;34m\u001b[0m\u001b[0m\n",
      "\u001b[0m\n",
      "--KeyboardInterrupt--\n",
      "\n",
      "KeyboardInterrupt: Interrupted by user\n",
      "Build failed\n",
      "CPU times: user 1.16 s, sys: 12.3 ms, total: 1.17 s\n",
      "Wall time: 8.47 s\n"
     ]
    },
    {
     "data": {
      "text/plain": [
       "-1"
      ]
     },
     "execution_count": 24,
     "metadata": {},
     "output_type": "execute_result"
    }
   ],
   "source": [
    "%%time\n",
    "build.build_dataflow_cfg(model_file, cfg_stitched_ip)"
   ]
  },
  {
   "cell_type": "code",
   "execution_count": null,
   "id": "4ab7bcb8",
   "metadata": {},
   "outputs": [],
   "source": []
  }
 ],
 "metadata": {
  "kernelspec": {
   "display_name": "Python 3",
   "language": "python",
   "name": "python3"
  },
  "language_info": {
   "codemirror_mode": {
    "name": "ipython",
    "version": 3
   },
   "file_extension": ".py",
   "mimetype": "text/x-python",
   "name": "python",
   "nbconvert_exporter": "python",
   "pygments_lexer": "ipython3",
   "version": "3.8.5"
  }
 },
 "nbformat": 4,
 "nbformat_minor": 5
}
