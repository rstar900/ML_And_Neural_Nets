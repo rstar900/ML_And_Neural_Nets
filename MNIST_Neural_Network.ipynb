{
  "nbformat": 4,
  "nbformat_minor": 0,
  "metadata": {
    "colab": {
      "name": "MNIST_Neural_Network.ipynb",
      "provenance": [],
      "collapsed_sections": [],
      "authorship_tag": "ABX9TyOlUOivOSHDPjLAuPSBn10Q",
      "include_colab_link": true
    },
    "kernelspec": {
      "name": "python3",
      "display_name": "Python 3"
    },
    "language_info": {
      "name": "python"
    }
  },
  "cells": [
    {
      "cell_type": "markdown",
      "metadata": {
        "id": "view-in-github",
        "colab_type": "text"
      },
      "source": [
        "<a href=\"https://colab.research.google.com/github/rstar900/ML_And_Neural_Nets/blob/main/MNIST_Neural_Network.ipynb\" target=\"_parent\"><img src=\"https://colab.research.google.com/assets/colab-badge.svg\" alt=\"Open In Colab\"/></a>"
      ]
    },
    {
      "cell_type": "code",
      "execution_count": 1,
      "metadata": {
        "colab": {
          "base_uri": "https://localhost:8080/"
        },
        "id": "i7YC_-tx1nrm",
        "outputId": "5c36d0bd-640f-4d6b-919e-7bccf3011dbf"
      },
      "outputs": [
        {
          "output_type": "stream",
          "name": "stdout",
          "text": [
            "Cloning into 'neural-networks-and-deep-learning'...\n",
            "remote: Enumerating objects: 1163, done.\u001b[K\n",
            "remote: Total 1163 (delta 0), reused 0 (delta 0), pack-reused 1163\u001b[K\n",
            "Receiving objects: 100% (1163/1163), 20.42 MiB | 20.03 MiB/s, done.\n",
            "Resolving deltas: 100% (577/577), done.\n"
          ]
        }
      ],
      "source": [
        "# Import the dataset from a repo\n",
        "!git clone https://github.com/mnielsen/neural-networks-and-deep-learning.git"
      ]
    },
    {
      "cell_type": "code",
      "source": [
        "# Install NumPy in case it is not installed\n",
        "!pip install numpy"
      ],
      "metadata": {
        "colab": {
          "base_uri": "https://localhost:8080/"
        },
        "id": "aXiEVQwE2zDH",
        "outputId": "e82e75b6-21e1-441a-f08d-2519da1b6904"
      },
      "execution_count": 15,
      "outputs": [
        {
          "output_type": "stream",
          "name": "stdout",
          "text": [
            "Looking in indexes: https://pypi.org/simple, https://us-python.pkg.dev/colab-wheels/public/simple/\n",
            "Requirement already satisfied: numpy in /usr/local/lib/python3.7/dist-packages (1.21.6)\n"
          ]
        }
      ]
    },
    {
      "cell_type": "code",
      "source": [
        "# Imports\n",
        "import numpy as np\n",
        "import random\n",
        "import pickle as cPickle # Python 3.x fix for working with cPickle library\n",
        "import gzip"
      ],
      "metadata": {
        "id": "HCS1_qg86zeP"
      },
      "execution_count": 17,
      "outputs": []
    },
    {
      "cell_type": "code",
      "source": [
        "# Code for loading of MNIST dataset\n",
        "# load_data() loads data into 3 tuples -> training_data, validation_data, test_data\n",
        "# load_data_wrapper() modifies the format of training data a little for use in our Neural Network\n",
        "\n",
        "def load_data():\n",
        "  f = gzip.open('/content/neural-networks-and-deep-learning/data/mnist.pkl.gz', 'rb')\n",
        "  u = cPickle._Unpickler(f)\n",
        "  u.encoding = 'bytes'\n",
        "  training_data, validation_data, test_data = u.load()\n",
        "  f.close()\n",
        "  return (training_data, validation_data, test_data)  \n",
        "\n",
        "def load_data_wrapper():\n",
        "    tr_d, va_d, te_d = load_data()\n",
        "    training_inputs = [np.reshape(x, (784, 1)) for x in tr_d[0]]\n",
        "    training_results = [vectorized_result(y) for y in tr_d[1]]\n",
        "    training_data = list(zip(training_inputs, training_results))\n",
        "    validation_inputs = [np.reshape(x, (784, 1)) for x in va_d[0]]\n",
        "    validation_data = list(zip(validation_inputs, va_d[1]))\n",
        "    test_inputs = [np.reshape(x, (784, 1)) for x in te_d[0]]\n",
        "    test_data = list(zip(test_inputs, te_d[1]))\n",
        "    return (training_data, validation_data, test_data)\n",
        "\n",
        "def vectorized_result(j):\n",
        "    e = np.zeros((10, 1))\n",
        "    e[j] = 1.0\n",
        "    return e"
      ],
      "metadata": {
        "id": "BdexMNLY8u99"
      },
      "execution_count": 35,
      "outputs": []
    },
    {
      "cell_type": "code",
      "source": [
        "# Sigmoid function\n",
        "def sigmoid(z):\n",
        "  return 1.0 / (1.0 + np.exp(-z))\n",
        "\n",
        "# Sigmoid function's derivative\n",
        "def sigmoid_prime(z):\n",
        "  return sigmoid(z) * (1 - sigmoid(z))\n",
        "  "
      ],
      "metadata": {
        "id": "B67XlG4ZRsXN"
      },
      "execution_count": 9,
      "outputs": []
    },
    {
      "cell_type": "code",
      "source": [
        "# The Network Class for defining our whole Neural Network\n",
        "class Network:\n",
        "\n",
        "  # Constructor\n",
        "  def __init__(self, sizes):\n",
        "    self.num_layers = len(sizes)\n",
        "    self.sizes = sizes\n",
        "    self.biases = [np.random.randn(y,1) for y in sizes[1:]]\n",
        "    self.weights = [np.random.randn(y,x) for x,y in zip(sizes[:-1], sizes[1:])]\n",
        "\n",
        "\n",
        "  # Feed forward function for getting activations of current layer based on activations of previous layer\n",
        "  def feedforward(self, a):\n",
        "    \"\"\" a is the input to the network \"\"\"\n",
        "    for b, w in zip(self.biases, self.weights):\n",
        "      a = sigmoid(np.dot(w,a) + b)\n",
        "    return a\n",
        "\n",
        "\n",
        "  # Top level Stochastic Gradient Descent (SGD) function for dividing the data into mini_batches and managing epochs    \n",
        "  def SGD(self, training_data, epochs, mini_batch_size, eta, test_data = None):\n",
        "    if test_data: n_test = len(test_data)\n",
        "    n = len(training_data)\n",
        "    for j in range(epochs):\n",
        "      random.shuffle(training_data)\n",
        "      mini_batches = [training_data[k : k + mini_batch_size] for k in range(0, n, mini_batch_size)]\n",
        "      for mini_batch in mini_batches:\n",
        "        self.update_mini_batch(mini_batch, eta)\n",
        "      if test_data:\n",
        "        print(\"Epoch {}: {} / {}\".format(j, self.evaluate(test_data), n_test))\n",
        "      else:\n",
        "        print(\"Epoch {} complete\".format(j))   \n",
        "\n",
        "\n",
        "  # update_mini_batch with new weights and biases\n",
        "  def update_mini_batch(self, mini_batch, eta):\n",
        "    nabla_w = [np.zeros(w.shape) for w in self.weights]\n",
        "    nabla_b = [np.zeros(b.shape) for b in self.biases]\n",
        "    for x, y in mini_batch:\n",
        "      delta_nabla_b, delta_nabla_w = self.backprop(x,y)\n",
        "      nabla_b = [nb + dnb for nb, dnb in zip(nabla_b, delta_nabla_b)]\n",
        "      nabla_w = [nw + dnw for nw, dnw in zip(nabla_w, delta_nabla_w)]\n",
        "    self.biases = [b - (eta/len(mini_batch)) * nb for b, nb in zip(self.biases, nabla_b)]\n",
        "    self.weights = [w - (eta/len(mini_batch)) * nw for w, nw in zip(self.weights, nabla_w)] \n",
        "\n",
        "\n",
        "  # TODO: backprop (need to understand first from second chapter and then come back to it again and complete the whole program)\n",
        "  def backprop(self, x, y):\n",
        "    delta_nabla_w = [np.zeros(w.shape) for w in self.weights]\n",
        "    delta_nabla_b = [np.zeros(b.shape) for b in self.biases]\n",
        "\n",
        "    # Feedforward\n",
        "    activation = x\n",
        "    activations = [x]\n",
        "    zs = [] # List to store weighted sums (z) for each node, layer by layer\n",
        "    for b, w in zip(self.biases, self.weights):\n",
        "      z = np.dot(w, activation) + b\n",
        "      activation = sigmoid(z)\n",
        "      zs.append(z)\n",
        "      activations.append(activation)\n",
        "\n",
        "    # Find the erro, weight and bias (delta) for the last layer\n",
        "    delta = self.cost_derivative(activations[-1], y) * sigmoid_prime(zs[-1])\n",
        "    delta_nabla_b[-1] = delta\n",
        "    delta_nabla_w[-1] = np.dot(delta, activations[-2].transpose())\n",
        "\n",
        "    # Back propogation\n",
        "    for l in range(2, self.num_layers):\n",
        "      z = zs[-l]\n",
        "      sp = sigmoid_prime(z)\n",
        "      delta = np.dot(self.weights[-l+1].transpose(), delta) * sp\n",
        "      delta_nabla_b[-l] = delta\n",
        "      delta_nabla_w[-l] = np.dot(delta, activations[-l-1].transpose())\n",
        "\n",
        "    return (delta_nabla_b, delta_nabla_w)  \n",
        "    \n",
        "  # Cost derivative function\n",
        "  def cost_derivative(self, output_activations, y):\n",
        "    return (output_activations - y)\n",
        "\n",
        "  # Evaluate the accuracy of the model with test data\n",
        "  def evaluate(self, test_data):\n",
        "    # argmax will return the index of the highest activation value of the last layer\n",
        "    test_results = [(np.argmax(self.feedforward(x)), y) for (x, y) in test_data]\n",
        "    return sum(int(x == y) for (x, y) in test_results) "
      ],
      "metadata": {
        "id": "DR4Nfa5y3BWw"
      },
      "execution_count": 12,
      "outputs": []
    },
    {
      "cell_type": "code",
      "source": [
        "# loading the dataset into our network\n",
        "training_data, validation_data, test_data = load_data_wrapper()\n",
        "net = Network([784, 30, 10])\n",
        "net.SGD(training_data, 30, 10, 3.0, test_data=test_data) # 30 epochs, mini batch size of 10, and learning rate of 3.0 "
      ],
      "metadata": {
        "colab": {
          "base_uri": "https://localhost:8080/"
        },
        "id": "n50L5E7bCObi",
        "outputId": "4eb06f69-1d44-46a8-d8d5-b6ffb12e1396"
      },
      "execution_count": 45,
      "outputs": [
        {
          "output_type": "stream",
          "name": "stdout",
          "text": [
            "Epoch 0: 9118 / 10000\n",
            "Epoch 1: 9259 / 10000\n",
            "Epoch 2: 9309 / 10000\n",
            "Epoch 3: 9382 / 10000\n",
            "Epoch 4: 9410 / 10000\n",
            "Epoch 5: 9429 / 10000\n",
            "Epoch 6: 9419 / 10000\n",
            "Epoch 7: 9432 / 10000\n",
            "Epoch 8: 9393 / 10000\n",
            "Epoch 9: 9426 / 10000\n",
            "Epoch 10: 9467 / 10000\n",
            "Epoch 11: 9420 / 10000\n",
            "Epoch 12: 9480 / 10000\n",
            "Epoch 13: 9481 / 10000\n",
            "Epoch 14: 9472 / 10000\n",
            "Epoch 15: 9449 / 10000\n",
            "Epoch 16: 9465 / 10000\n",
            "Epoch 17: 9493 / 10000\n",
            "Epoch 18: 9476 / 10000\n",
            "Epoch 19: 9466 / 10000\n",
            "Epoch 20: 9487 / 10000\n",
            "Epoch 21: 9485 / 10000\n",
            "Epoch 22: 9501 / 10000\n",
            "Epoch 23: 9497 / 10000\n",
            "Epoch 24: 9533 / 10000\n",
            "Epoch 25: 9492 / 10000\n",
            "Epoch 26: 9500 / 10000\n",
            "Epoch 27: 9497 / 10000\n",
            "Epoch 28: 9512 / 10000\n",
            "Epoch 29: 9497 / 10000\n"
          ]
        }
      ]
    }
  ]
}